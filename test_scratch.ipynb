{
 "cells": [
  {
   "cell_type": "code",
   "execution_count": 1,
   "metadata": {},
   "outputs": [],
   "source": [
    "import jax\n",
    "jax.config.update(\"jax_debug_nans\", True)\n",
    "jax.config.update(\"jax_disable_jit\", True)\n"
   ]
  },
  {
   "cell_type": "code",
   "execution_count": 1,
   "metadata": {},
   "outputs": [
    {
     "name": "stderr",
     "output_type": "stream",
     "text": [
      "/Users/bfarr/miniconda3/envs/gwinferno-dev/lib/python3.11/site-packages/tqdm/auto.py:21: TqdmWarning: IProgress not found. Please update jupyter and ipywidgets. See https://ipywidgets.readthedocs.io/en/stable/user_install.html\n",
      "  from .autonotebook import tqdm as notebook_tqdm\n"
     ]
    }
   ],
   "source": [
    "# %load tests/inference_test.py\n",
    "import glob\n",
    "import os\n",
    "import unittest\n",
    "from functools import partial\n",
    "\n",
    "import jax.numpy as jnp\n",
    "import numpy as np\n",
    "import numpyro\n",
    "import numpyro.distributions as dist\n",
    "import xarray as xr\n",
    "from jax import random\n",
    "from jax import value_and_grad\n",
    "from jax.flatten_util import ravel_pytree\n",
    "from jax.scipy.integrate import trapezoid\n",
    "from numpyro.infer import MCMC\n",
    "from numpyro.infer import NUTS\n",
    "from numpyro.infer.util import unconstrain_fn\n",
    "from numpyro.infer.util import potential_energy\n",
    "\n",
    "from gwinferno.models.gwpopulation.gwpopulation import PowerlawRedshiftModel\n",
    "from gwinferno.models.gwpopulation.gwpopulation import powerlaw_primary_ratio_pdf\n",
    "from gwinferno.models.bsplines.separable import BSplinePrimaryBSplineRatio\n",
    "from gwinferno.models.spline_perturbation import PowerlawSplineRedshiftModel\n",
    "from gwinferno.pipeline.analysis import construct_hierarchical_model\n",
    "from gwinferno.pipeline.analysis import hierarchical_likelihood\n",
    "from gwinferno.pipeline.parser import ConfigReader\n",
    "from gwinferno.pipeline.parser import load_model_from_python_file\n",
    "from gwinferno.preprocess.data_collection import load_injections\n",
    "from gwinferno.preprocess.data_collection import load_posterior_data\n",
    "\n",
    "\n",
    "def norm_mass_model(alpha, beta, mmin, mmax):\n",
    "    ms = jnp.linspace(3, 100, 500)\n",
    "    qs = jnp.linspace(0.01, 1, 300)\n",
    "    mm, qq = jnp.meshgrid(ms, qs)\n",
    "    p_mq = powerlaw_primary_ratio_pdf(mm, qq, alpha=alpha, beta=beta, mmin=mmin, mmax=mmax)\n",
    "    return trapezoid(trapezoid(p_mq, qs, axis=0), ms)\n",
    "\n",
    "\n",
    "class TestModelInference(unittest.TestCase):\n",
    "    def setUp(self) -> None:\n",
    "        self.mmin = 5.\n",
    "        self.mmax = 100.\n",
    "\n",
    "        if os.path.exists(\"~/unit_tests/data\"):\n",
    "            pref = \"~/unit_tests/data\"\n",
    "        else:\n",
    "            pref = \"tests/data\"\n",
    "        self.data_dir = pref\n",
    "        self.inj_file = f\"{pref}/injections.h5\"\n",
    "        self.param_names = [\"mass_1\", \"mass_ratio\", \"redshift\", \"prior\"]\n",
    "        self.param_map = {p: i for i, p in enumerate(self.param_names)}\n",
    "        self.pedict, self.Nobs, self.Nsamples = self.load_data()\n",
    "        self.injdict, self.total_inj, self.obs_time = self.load_injections(through_o4a=False, through_o3=True)\n",
    "        self.parametric_model = self.setup_parametric_model()\n",
    "        self.bspline_model = self.setup_bspline_model()\n",
    "\n",
    "    def tearDown(self) -> None:\n",
    "        del self.data_dir\n",
    "        del self.inj_file\n",
    "        del self.pedict\n",
    "        del self.injdict\n",
    "        del self.total_inj\n",
    "        del self.obs_time\n",
    "        del self.Nobs\n",
    "        del self.Nsamples\n",
    "        del self.param_map\n",
    "        del self.param_names\n",
    "        del self.z_parametric_model\n",
    "        del self.mass_bspline_model\n",
    "        del self.z_bspline_model\n",
    "        del self.parametric_model\n",
    "        del self.bspline_model\n",
    "\n",
    "    def load_data(self, max_samps=100):\n",
    "        loaded_dataset = xr.load_dataset(f\"{self.data_dir}/xarray_GWTC3_BBH_69evs_downsampled_1000samps_nospin.h5\")\n",
    "        dataarray = loaded_dataset.to_array()\n",
    "        pedata = jnp.asarray(dataarray.data)\n",
    "        Nobs = pedata.shape[0]\n",
    "        Nsamples = pedata.shape[-1]\n",
    "        idxs = np.random.choice(Nsamples, size=max_samps, replace=False)\n",
    "        pedict = {k: pedata[:, i, idxs] for i, k in enumerate(dataarray.param.values)}\n",
    "        return pedict, Nobs, max_samps\n",
    "\n",
    "    def test_load_pe_samples(self):\n",
    "        fns = glob.glob(f\"{self.data_dir}/S*.h5\")\n",
    "        evs = [s.split(\"/\")[-1].replace(\".h5\", \"\") for s in fns]\n",
    "        run_map = {}\n",
    "\n",
    "        for ev, file in zip(evs, fns):\n",
    "            run_map[ev] = {\"file_path\": file, \"waveform\": \"C01:Mixed\", \"redshift_prior\": \"euclidean\", \"catalog\": \"GWTC-3\"}\n",
    "        p_names = self.param_names.copy()\n",
    "        p_names.remove(\"prior\")\n",
    "        pe_catalog = load_posterior_data(run_map=run_map, param_names=p_names)\n",
    "        pedata = jnp.asarray(pe_catalog.data)\n",
    "        Nobs = pedata.shape[0]\n",
    "        Nsamples = pedata.shape[-1]\n",
    "        self.pedict = {k: pedata[:, i] for i, k in enumerate(pe_catalog.param.values)}\n",
    "        for param in self.pedict.keys():\n",
    "            self.assertEqual(self.pedict[param].shape, (Nobs, Nsamples))\n",
    "\n",
    "    def test_pe_shape(self):\n",
    "        for param in self.pedict.keys():\n",
    "            self.assertEqual(self.pedict[param].shape, (self.Nobs, self.Nsamples))\n",
    "\n",
    "    def load_injections(self, **kwargs):\n",
    "        p_names = self.param_names.copy()\n",
    "        p_names.remove(\"prior\")\n",
    "        injections = load_injections(self.inj_file, p_names, through_o3=kwargs[\"through_o3\"], through_o4a=kwargs[\"through_o4a\"])\n",
    "        injdata = jnp.asarray(injections.data)\n",
    "        total_inj = injections.attrs[\"total_generated\"]\n",
    "        obs_time = injections.attrs[\"analysis_time\"]\n",
    "        injdict = {k: injdata[i] for i, k in enumerate(injections.param.values)}\n",
    "        return injdict, float(total_inj), obs_time\n",
    "\n",
    "    def test_injection_shape(self):\n",
    "        self.assertGreater(self.total_inj, len(self.injdict[self.param_names[0]]))\n",
    "\n",
    "    def init_cached_parametric_models(self):\n",
    "        self.z_parametric_model = PowerlawRedshiftModel(\n",
    "            z_pe=self.pedict[\"redshift\"],\n",
    "            z_inj=self.injdict[\"redshift\"],\n",
    "        )\n",
    "\n",
    "    def init_bspline_models(self):\n",
    "        self.m1_nbases = 10\n",
    "        self.q_nbases = 5\n",
    "        self.z_nbases = 5\n",
    "        self.mass_bspline_model = BSplinePrimaryBSplineRatio(\n",
    "            self.m1_nbases,\n",
    "            self.q_nbases,\n",
    "            self.pedict[\"mass_1\"],\n",
    "            self.injdict[\"mass_1\"],\n",
    "            self.pedict[\"mass_ratio\"],\n",
    "            self.injdict[\"mass_ratio\"],\n",
    "            m1min=self.mmin,\n",
    "            m2min=self.mmin,\n",
    "            mmax=self.mmax,\n",
    "        )\n",
    "        self.z_bspline_model = PowerlawSplineRedshiftModel(\n",
    "            self.z_nbases,\n",
    "            self.pedict[\"redshift\"],\n",
    "            self.injdict[\"redshift\"],\n",
    "        )\n",
    "\n",
    "    def setup_parametric_model(self):\n",
    "        self.init_cached_parametric_models()\n",
    "        self.parametric_model_args = (\n",
    "            self.pedict,\n",
    "            self.injdict,\n",
    "            self.z_parametric_model,\n",
    "            self.Nobs,\n",
    "            self.total_inj,\n",
    "            self.obs_time,\n",
    "        )\n",
    "        self.parametric_test_params = {\n",
    "            'alpha': jnp.array(3.5),\n",
    "            'beta': jnp.array(1.1),\n",
    "            'lamb': jnp.array(2.9),\n",
    "            'unscaled_rate': jnp.array(30.),\n",
    "        }\n",
    "\n",
    "        def model(pedict, injdict, z_model, Nobs, total_inj, obs_time, sample_prior=False, log_likelihood=False):\n",
    "            alpha = numpyro.sample(\"alpha\", dist.Normal(0, 2))\n",
    "            beta = numpyro.sample(\"beta\", dist.Normal(0, 2))\n",
    "            lamb = numpyro.sample(\"lamb\", dist.Normal(0, 2))\n",
    "            if not sample_prior:\n",
    "                def get_weights(m1, q, z, prior):\n",
    "                    p_m1q = powerlaw_primary_ratio_pdf(m1, q, alpha=alpha, beta=beta, mmin=self.mmin, mmax=self.mmax)\n",
    "                    p_z = z_model(z, lamb)\n",
    "                    wts = p_m1q * p_z / prior\n",
    "                    return jnp.where(jnp.isnan(wts) | jnp.isinf(wts), 0, wts)\n",
    "\n",
    "                peweights = get_weights(pedict[\"mass_1\"], pedict[\"mass_ratio\"], pedict[\"redshift\"], pedict[\"prior\"])\n",
    "                injweights = get_weights(injdict[\"mass_1\"], injdict[\"mass_ratio\"], injdict[\"redshift\"], injdict[\"prior\"])\n",
    "                if not log_likelihood:\n",
    "                    hierarchical_likelihood(\n",
    "                        peweights,\n",
    "                        injweights,\n",
    "                        total_inj=total_inj,\n",
    "                        Nobs=Nobs,\n",
    "                        Tobs=obs_time,\n",
    "                        surv_hypervolume_fct=z_model.normalization,\n",
    "                        vtfct_kwargs=dict(lamb=lamb),\n",
    "                        marginalize_selection=False,\n",
    "                        min_neff_cut=False,\n",
    "                        posterior_predictive_check=True,\n",
    "                        pedata=pedict,\n",
    "                        injdata=injdict,\n",
    "                        param_names=[\n",
    "                            \"mass_1\",\n",
    "                            \"mass_ratio\",\n",
    "                            \"redshift\",\n",
    "                        ],\n",
    "                        m1min=self.mmin,\n",
    "                        m2min=self.mmin,\n",
    "                        mmax=self.mmax,\n",
    "                    )\n",
    "\n",
    "                else:\n",
    "                    hierarchical_likelihood(\n",
    "                        jnp.log(peweights),\n",
    "                        jnp.log(injweights),\n",
    "                        total_inj=total_inj,\n",
    "                        Nobs=Nobs,\n",
    "                        Tobs=obs_time,\n",
    "                        surv_hypervolume_fct=z_model.normalization,\n",
    "                        vtfct_kwargs=dict(lamb=lamb),\n",
    "                        marginalize_selection=False,\n",
    "                        min_neff_cut=False,\n",
    "                        posterior_predictive_check=True,\n",
    "                        pedata=pedict,\n",
    "                        injdata=injdict,\n",
    "                        param_names=[\n",
    "                            \"mass_1\",\n",
    "                            \"mass_ratio\",\n",
    "                            \"redshift\",\n",
    "                        ],\n",
    "                        m1min=self.mmin,\n",
    "                        m2min=self.mmin,\n",
    "                        mmax=self.mmax,\n",
    "                        log=True,\n",
    "                    )\n",
    "\n",
    "        return model\n",
    "\n",
    "    def setup_bspline_model(self):\n",
    "        self.init_bspline_models()\n",
    "        self.bspline_test_params = {\n",
    "            'm1_coefs': random.normal(random.PRNGKey(0), (self.m1_nbases,)),\n",
    "            'q_coefs': random.normal(random.PRNGKey(1), (self.q_nbases,)),\n",
    "            'z_coefs': jnp.ones(self.z_nbases),\n",
    "            'lamb': jnp.array(2.9),\n",
    "            'unscaled_rate': jnp.array(30.),\n",
    "        }\n",
    "        self.bspline_model_args = (\n",
    "            self.pedict,\n",
    "            self.injdict,\n",
    "            self.mass_bspline_model,\n",
    "            self.z_bspline_model,\n",
    "            self.Nobs,\n",
    "            self.total_inj,\n",
    "            self.obs_time,\n",
    "        )\n",
    "\n",
    "        def model(pedict, injdict, mass_model, z_model, Nobs, total_inj, obs_time, sample_prior=False, log_likelihood=False):\n",
    "            m1_nbases = mass_model.primary_model.n_splines\n",
    "            q_nbases = mass_model.ratio_model.n_splines\n",
    "            z_nbases = z_model.n_splines\n",
    "\n",
    "            m1_coef = numpyro.sample(\"m1_coefs\", dist.Normal(0, 6), sample_shape=(m1_nbases,))\n",
    "            q_coef = numpyro.sample(\"q_coefs\", dist.Normal(0, 6), sample_shape=(q_nbases,))\n",
    "            lamb = numpyro.sample(\"lamb\", dist.Normal(0, 3))\n",
    "            z_coef = numpyro.sample(\"z_coefs\", dist.Normal(0, 6), sample_shape=(z_nbases,))\n",
    "\n",
    "            if not sample_prior:\n",
    "                def get_weights(z, prior, pe_samples=False):\n",
    "                    p_m1q = mass_model(m1_coef, q_coef, pe_samples=pe_samples)\n",
    "                    p_z = z_model(z, lamb, z_coef)\n",
    "                    wts = p_m1q * p_z / prior\n",
    "                    return jnp.where(jnp.isnan(wts) | jnp.isinf(wts), 0, wts)\n",
    "\n",
    "                peweights = get_weights(pedict[\"redshift\"], pedict[\"prior\"], pe_samples=True)\n",
    "                injweights = get_weights(injdict[\"redshift\"], injdict[\"prior\"], pe_samples=False)\n",
    "                if not log_likelihood:\n",
    "                    hierarchical_likelihood(\n",
    "                        peweights,\n",
    "                        injweights,\n",
    "                        total_inj=total_inj,\n",
    "                        Nobs=Nobs,\n",
    "                        Tobs=obs_time,\n",
    "                        surv_hypervolume_fct=z_model.normalization,\n",
    "                        vtfct_kwargs=dict(lamb=lamb, cs=z_coef),\n",
    "                        marginalize_selection=False,\n",
    "                        min_neff_cut=False,\n",
    "                        posterior_predictive_check=True,\n",
    "                        pedata=pedict,\n",
    "                        injdata=injdict,\n",
    "                        param_names=[\n",
    "                            \"mass_1\",\n",
    "                            \"mass_ratio\",\n",
    "                            \"redshift\",\n",
    "                        ],\n",
    "                        m1min=self.mmin,\n",
    "                        m2min=self.mmin,\n",
    "                        mmax=self.mmax,\n",
    "                    )\n",
    "\n",
    "                else:\n",
    "                    hierarchical_likelihood(\n",
    "                        jnp.log(peweights),\n",
    "                        jnp.log(injweights),\n",
    "                        total_inj=total_inj,\n",
    "                        Nobs=Nobs,\n",
    "                        Tobs=obs_time,\n",
    "                        surv_hypervolume_fct=z_model.normalization,\n",
    "                        vtfct_kwargs=dict(lamb=lamb, cs=z_coef),\n",
    "                        marginalize_selection=False,\n",
    "                        min_neff_cut=False,\n",
    "                        posterior_predictive_check=True,\n",
    "                        pedata=pedict,\n",
    "                        injdata=injdict,\n",
    "                        param_names=[\n",
    "                            \"mass_1\",\n",
    "                            \"mass_ratio\",\n",
    "                            \"redshift\",\n",
    "                        ],\n",
    "                        m1min=self.mmin,\n",
    "                        m2min=self.mmin,\n",
    "                        mmax=self.mmax,\n",
    "                        log=True,\n",
    "                    )\n",
    "\n",
    "        return model\n",
    "\n",
    "    def test_parametric_model(self):\n",
    "        params = unconstrain_fn(\n",
    "            self.parametric_model,\n",
    "            self.parametric_model_args,\n",
    "            {'log_likelihood': False},\n",
    "            self.parametric_test_params,\n",
    "        )\n",
    "        potential_fn = partial(\n",
    "            potential_energy,\n",
    "            self.parametric_model,\n",
    "            self.parametric_model_args,\n",
    "            {'log_likelihood': False},\n",
    "        )\n",
    "        pe, z_grad = value_and_grad(potential_fn)(params)\n",
    "        z_grad_flat = ravel_pytree(z_grad)[0]\n",
    "        self.assertTrue(jnp.isfinite(pe), msg=\"Potential energy is not finite for test case\")\n",
    "        self.assertTrue(jnp.all(jnp.isfinite(z_grad_flat)), msg=\"Gradient is not finite; don't expect to find valid initial parameters\")\n",
    "\n",
    "    def test_bspline_model(self):\n",
    "        params = unconstrain_fn(\n",
    "            self.bspline_model,\n",
    "            self.bspline_model_args,\n",
    "            {'log_likelihood': False},\n",
    "            self.bspline_test_params,\n",
    "        )\n",
    "        potential_fn = partial(\n",
    "            potential_energy,\n",
    "            self.bspline_model,\n",
    "            self.bspline_model_args,\n",
    "            {'log_likelihood': False},\n",
    "        )\n",
    "        pe, z_grad = value_and_grad(potential_fn)(params)\n",
    "        z_grad_flat = ravel_pytree(z_grad)[0]\n",
    "        self.assertTrue(jnp.isfinite(pe), msg=\"Potential energy is not finite for test case\")\n",
    "        self.assertTrue(jnp.all(jnp.isfinite(z_grad_flat)), msg=\"Gradient is not finite; don't expect to find valid initial parameters\")\n",
    "\n",
    "    def test_bspline_model_in_log(self):\n",
    "        params = unconstrain_fn(\n",
    "            self.bspline_model,\n",
    "            self.bspline_model_args,\n",
    "            {'log_likelihood': True},\n",
    "            self.bspline_test_params,\n",
    "        )\n",
    "        potential_fn = partial(\n",
    "            potential_energy,\n",
    "            self.bspline_model,\n",
    "            self.bspline_model_args,\n",
    "            {'log_likelihood': True},\n",
    "        )\n",
    "        pe, z_grad = value_and_grad(potential_fn)(params)\n",
    "        z_grad_flat = ravel_pytree(z_grad)[0]\n",
    "        self.assertTrue(jnp.isfinite(pe), msg=\"Potential energy is not finite for test case\")\n",
    "        self.assertTrue(jnp.all(jnp.isfinite(z_grad_flat)), msg=\"Gradient is not finite; don't expect to find valid initial parameters\")\n",
    "\n",
    "    def test_parametric_prior_sample(self):\n",
    "        RNG = random.PRNGKey(3)\n",
    "        kernel = NUTS(self.parametric_model, max_tree_depth=2, adapt_mass_matrix=False)\n",
    "        mcmc = MCMC(kernel, num_warmup=5, num_samples=5)\n",
    "        mcmc.run(RNG, *self.parametric_model_args, sample_prior=True)\n",
    "        samples = mcmc.get_samples()\n",
    "        self.assertEqual(samples[\"alpha\"].shape, (5,))\n",
    "        self.assertEqual(samples[\"beta\"].shape, (5,))\n",
    "        self.assertEqual(samples[\"lamb\"].shape, (5,))\n",
    "\n",
    "    def test_bspline_prior_sample(self):\n",
    "        RNG = random.PRNGKey(4)\n",
    "        kernel = NUTS(self.bspline_model, max_tree_depth=2, adapt_mass_matrix=False)\n",
    "        mcmc = MCMC(kernel, num_warmup=5, num_samples=5)\n",
    "        mcmc.run(RNG, *self.bspline_model_args, sample_prior=True)\n",
    "        samples = mcmc.get_samples()\n",
    "        self.assertEqual(samples[\"m1_coefs\"].shape, (5, self.m1_nbases))\n",
    "        self.assertEqual(samples[\"q_coefs\"].shape, (5, self.q_nbases))\n",
    "        self.assertEqual(samples[\"z_coefs\"].shape, (5, self.z_nbases))\n",
    "        self.assertEqual(samples[\"lamb\"].shape, (5,))\n",
    "\n",
    "    def test_parametric_posterior_sample(self):\n",
    "        RNG = random.PRNGKey(5)\n",
    "        kernel = NUTS(self.parametric_model, max_tree_depth=2, adapt_mass_matrix=False)\n",
    "        mcmc = MCMC(kernel, num_warmup=5, num_samples=5)\n",
    "        mcmc.run(RNG, *self.parametric_model_args, sample_prior=False)\n",
    "        samples = mcmc.get_samples()\n",
    "        self.assertEqual(samples[\"alpha\"].shape, (5,))\n",
    "        self.assertEqual(samples[\"beta\"].shape, (5,))\n",
    "        self.assertEqual(samples[\"lamb\"].shape, (5,))\n",
    "\n",
    "    def test_bspline_posterior_sample(self):\n",
    "        RNG = random.PRNGKey(6)\n",
    "        kernel = NUTS(self.bspline_model, max_tree_depth=2, adapt_mass_matrix=False)\n",
    "        mcmc = MCMC(kernel, num_warmup=5, num_samples=5)\n",
    "        mcmc.run(RNG, *self.bspline_model_args, sample_prior=False, log_likelihood=False)\n",
    "        samples = mcmc.get_samples()\n",
    "        self.assertEqual(samples[\"m1_coefs\"].shape, (5, self.m1_nbases))\n",
    "        self.assertEqual(samples[\"q_coefs\"].shape, (5, self.q_nbases))\n",
    "        self.assertEqual(samples[\"z_coefs\"].shape, (5, self.z_nbases))\n",
    "        self.assertEqual(samples[\"lamb\"].shape, (5,))\n",
    "\n",
    "    def test_bspline_posterior_sample_in_log(self):\n",
    "        RNG = random.PRNGKey(6)\n",
    "        kernel = NUTS(self.bspline_model, max_tree_depth=2, adapt_mass_matrix=False)\n",
    "        mcmc = MCMC(kernel, num_warmup=5, num_samples=5)\n",
    "        mcmc.run(RNG, *self.bspline_model_args, sample_prior=False, log_likelihood=True)\n",
    "        samples = mcmc.get_samples()\n",
    "        self.assertEqual(samples[\"m1_coefs\"].shape, (5, self.m1_nbases))\n",
    "        self.assertEqual(samples[\"q_coefs\"].shape, (5, self.q_nbases))\n",
    "        self.assertEqual(samples[\"z_coefs\"].shape, (5, self.z_nbases))\n",
    "        self.assertEqual(samples[\"lamb\"].shape, (5,))\n",
    "\n",
    "    def test_config_reader(self):\n",
    "        config_reader = ConfigReader()\n",
    "        config_reader.parse(\"gwinferno/pipeline/config_files/example_config.yml\")\n",
    "        model_dict, prior_dict = config_reader.models, config_reader.priors\n",
    "        data_conf, sampler_conf, likelihood_kwargs = config_reader.data_conf, config_reader.sampler_conf, config_reader.likelihood_kwargs\n",
    "        sampling_params, label, outdir = config_reader.sampling_params, config_reader.label, config_reader.outdir\n",
    "        model = construct_hierarchical_model(model_dict, prior_dict, **likelihood_kwargs)\n",
    "        del data_conf, sampler_conf, sampling_params, label, outdir, model, likelihood_kwargs, prior_dict\n",
    "\n",
    "    def test_config_py_reader(self):\n",
    "        config_reader = ConfigReader()\n",
    "        config_reader.parse(\"gwinferno/pipeline/config_files/example_config_python_model.yml\")\n",
    "        model_dict, prior_dict = config_reader.models, config_reader.priors\n",
    "        data_conf, sampler_conf, likelihood_kwargs = config_reader.data_conf, config_reader.sampler_conf, config_reader.likelihood_kwargs\n",
    "        sampling_params, label, outdir = config_reader.sampling_params, config_reader.label, config_reader.outdir\n",
    "        model = load_model_from_python_file(model_dict.pop(\"file_path\"))\n",
    "        self.assertFalse(prior_dict)\n",
    "        self.assertFalse(model_dict)\n",
    "        del data_conf, sampler_conf, sampling_params, label, outdir, model, likelihood_kwargs, prior_dict\n"
   ]
  },
  {
   "cell_type": "code",
   "execution_count": 2,
   "metadata": {},
   "outputs": [],
   "source": [
    "obj = TestModelInference()\n",
    "obj.setUp()"
   ]
  },
  {
   "cell_type": "code",
   "execution_count": 3,
   "metadata": {},
   "outputs": [
    {
     "ename": "AssertionError",
     "evalue": "Array(False, dtype=bool) is not true : Gradient is not finite; don't expect to find valid initial parameters",
     "output_type": "error",
     "traceback": [
      "\u001b[0;31m---------------------------------------------------------------------------\u001b[0m",
      "\u001b[0;31mAssertionError\u001b[0m                            Traceback (most recent call last)",
      "Cell \u001b[0;32mIn[3], line 1\u001b[0m\n\u001b[0;32m----> 1\u001b[0m \u001b[43mobj\u001b[49m\u001b[38;5;241;43m.\u001b[39;49m\u001b[43mtest_bspline_model_in_log\u001b[49m\u001b[43m(\u001b[49m\u001b[43m)\u001b[49m\n",
      "Cell \u001b[0;32mIn[1], line 369\u001b[0m, in \u001b[0;36mTestModelInference.test_bspline_model_in_log\u001b[0;34m(self)\u001b[0m\n\u001b[1;32m    367\u001b[0m z_grad_flat \u001b[38;5;241m=\u001b[39m ravel_pytree(z_grad)[\u001b[38;5;241m0\u001b[39m]\n\u001b[1;32m    368\u001b[0m \u001b[38;5;28mself\u001b[39m\u001b[38;5;241m.\u001b[39massertTrue(jnp\u001b[38;5;241m.\u001b[39misfinite(pe), msg\u001b[38;5;241m=\u001b[39m\u001b[38;5;124m\"\u001b[39m\u001b[38;5;124mPotential energy is not finite for test case\u001b[39m\u001b[38;5;124m\"\u001b[39m)\n\u001b[0;32m--> 369\u001b[0m \u001b[38;5;28;43mself\u001b[39;49m\u001b[38;5;241;43m.\u001b[39;49m\u001b[43massertTrue\u001b[49m\u001b[43m(\u001b[49m\u001b[43mjnp\u001b[49m\u001b[38;5;241;43m.\u001b[39;49m\u001b[43mall\u001b[49m\u001b[43m(\u001b[49m\u001b[43mjnp\u001b[49m\u001b[38;5;241;43m.\u001b[39;49m\u001b[43misfinite\u001b[49m\u001b[43m(\u001b[49m\u001b[43mz_grad_flat\u001b[49m\u001b[43m)\u001b[49m\u001b[43m)\u001b[49m\u001b[43m,\u001b[49m\u001b[43m \u001b[49m\u001b[43mmsg\u001b[49m\u001b[38;5;241;43m=\u001b[39;49m\u001b[38;5;124;43m\"\u001b[39;49m\u001b[38;5;124;43mGradient is not finite; don\u001b[39;49m\u001b[38;5;124;43m'\u001b[39;49m\u001b[38;5;124;43mt expect to find valid initial parameters\u001b[39;49m\u001b[38;5;124;43m\"\u001b[39;49m\u001b[43m)\u001b[49m\n",
      "File \u001b[0;32m~/miniconda3/envs/gwinferno-dev/lib/python3.11/unittest/case.py:715\u001b[0m, in \u001b[0;36mTestCase.assertTrue\u001b[0;34m(self, expr, msg)\u001b[0m\n\u001b[1;32m    713\u001b[0m \u001b[38;5;28;01mif\u001b[39;00m \u001b[38;5;129;01mnot\u001b[39;00m expr:\n\u001b[1;32m    714\u001b[0m     msg \u001b[38;5;241m=\u001b[39m \u001b[38;5;28mself\u001b[39m\u001b[38;5;241m.\u001b[39m_formatMessage(msg, \u001b[38;5;124m\"\u001b[39m\u001b[38;5;132;01m%s\u001b[39;00m\u001b[38;5;124m is not true\u001b[39m\u001b[38;5;124m\"\u001b[39m \u001b[38;5;241m%\u001b[39m safe_repr(expr))\n\u001b[0;32m--> 715\u001b[0m     \u001b[38;5;28;01mraise\u001b[39;00m \u001b[38;5;28mself\u001b[39m\u001b[38;5;241m.\u001b[39mfailureException(msg)\n",
      "\u001b[0;31mAssertionError\u001b[0m: Array(False, dtype=bool) is not true : Gradient is not finite; don't expect to find valid initial parameters"
     ]
    }
   ],
   "source": [
    "obj.test_bspline_model_in_log()"
   ]
  },
  {
   "cell_type": "code",
   "execution_count": 40,
   "metadata": {},
   "outputs": [],
   "source": [
    "from gwinferno.interpolation import BSpline\n",
    "\n",
    "\n",
    "class LogYBSpline(BSpline):\n",
    "    def __init__(self, n_df, knots=None, interior_knots=None, xrange=(0, 1), normalize=True, **kwargs):\n",
    "        \"\"\"\n",
    "        Class to construct a basis spline (B-Spline) in the log space of the range (Y)\n",
    "\n",
    "        Args:\n",
    "            n_df (int): number of degrees of freedom for the spline\n",
    "            knots (array_like, optional): array of knots, if non-uniform knot placing is preferred.\n",
    "                Defaults to None.\n",
    "            interior_knots (array_like, optional): array of interior knots,\n",
    "                if non-uniform knot placing is preferred. Defaults to None.\n",
    "            xrange (tuple, optional): domain of spline. Defaults to (0, 1).\n",
    "            k (int, optional): order of the spline +1, i.e. cubic splines->k=4. Defaults to 4 (cubic spline).\n",
    "            normalize (bool, optional): flag whether or not to numerically normalize the spline. Defaults to True.\n",
    "        \"\"\"\n",
    "        super().__init__(n_df, knots=knots, interior_knots=interior_knots, xrange=xrange, **kwargs)\n",
    "        self.normalize = normalize\n",
    "        if normalize:\n",
    "            self.grid = jnp.linspace(*xrange, 1000)\n",
    "            self.grid_bases = jnp.array(self.bases(self.grid))\n",
    "\n",
    "    def _project(self, bases, coefs):\n",
    "        \"\"\"\n",
    "        _project given a design matrix (or bases) and coefficients, project the coefficients onto the spline\n",
    "\n",
    "        Args:\n",
    "            bases (array_like): The set of basis components or design matrix to project onto\n",
    "            coefs (array_like): coefficients for the basis components\n",
    "\n",
    "        Returns:\n",
    "            array_like: The linear combination of the basis components given the coefficients\n",
    "        \"\"\"\n",
    "        oob = jnp.all(bases == 0, axis=0)\n",
    "        log_vals = jnp.nan_to_num(jnp.einsum(\"i...,i->...\", bases, coefs), nan=-jnp.inf, posinf=-jnp.inf)\n",
    "        return jnp.where(oob, 0., jnp.exp(log_vals))  #jnp.where(oob_sel, 0., jnp.exp(log_vals))\n",
    "\n",
    "    def bases(self, xs):\n",
    "        \"\"\"\n",
    "        Evaluate the basis spline design matrix at xs. We want the probability to ultimately\n",
    "        be zero outside the range of the spline, but since coefficients can be negative, negative\n",
    "        infinities for out-of-range values won't have the desired effect.  We'll use nans instead\n",
    "        and use nan_to_num to convert them to zeros upon projection.\n",
    "\n",
    "        Args:\n",
    "            xs (array_like): input values to evaluate the basis spline at\n",
    "\n",
    "        Returns:\n",
    "            array_like: the design matrix evaluated at xs. shape (N, *xs.shape)\n",
    "        \"\"\"\n",
    "        design_matrix = super().bases(xs)\n",
    "        return jnp.where(jnp.less(xs, self.xrange[0]) | jnp.greater(xs, self.xrange[1]), 0, design_matrix)\n",
    "\n",
    "\n",
    "m1_coefs = random.normal(random.PRNGKey(0), (obj.m1_nbases,))\n",
    "m1_injs = obj.injdict[\"mass_1\"]\n",
    "\n",
    "interpolator = LogYBSpline(obj.m1_nbases, xrange=(obj.mmin, obj.mmax), k=4)\n",
    "interpolator.bases(m1_injs), interpolator.project(interpolator.bases(m1_injs), m1_coefs)\n",
    "\n",
    "def project_and_sum(coefs):\n",
    "    bases = interpolator.bases(m1_injs)\n",
    "    ps = interpolator.project(bases, coefs)\n",
    "    return jnp.sum(ps)\n"
   ]
  },
  {
   "cell_type": "code",
   "execution_count": 42,
   "metadata": {},
   "outputs": [
    {
     "data": {
      "text/plain": [
       "(Array([[0.0000000e+00, 0.0000000e+00, 0.0000000e+00, ..., 6.0982689e-02,\n",
       "         0.0000000e+00, 0.0000000e+00],\n",
       "        [0.0000000e+00, 0.0000000e+00, 0.0000000e+00, ..., 5.9712446e-01,\n",
       "         0.0000000e+00, 5.9485468e-05],\n",
       "        [0.0000000e+00, 0.0000000e+00, 0.0000000e+00, ..., 3.3804455e-01,\n",
       "         4.9734544e-02, 2.0447083e-01],\n",
       "        ...,\n",
       "        [5.7212418e-01, 0.0000000e+00, 0.0000000e+00, ..., 0.0000000e+00,\n",
       "         0.0000000e+00, 0.0000000e+00],\n",
       "        [3.7295994e-01, 0.0000000e+00, 0.0000000e+00, ..., 0.0000000e+00,\n",
       "         0.0000000e+00, 0.0000000e+00],\n",
       "        [6.3911770e-03, 0.0000000e+00, 0.0000000e+00, ..., 0.0000000e+00,\n",
       "         0.0000000e+00, 0.0000000e+00]], dtype=float32),\n",
       " Array([0.01269992, 0.        , 0.00971319, ..., 0.01497306, 0.00768691,\n",
       "        0.00778277], dtype=float32))"
      ]
     },
     "execution_count": 42,
     "metadata": {},
     "output_type": "execute_result"
    }
   ],
   "source": [
    "interpolator.bases(m1_injs), interpolator.project(interpolator.bases(m1_injs), m1_coefs)"
   ]
  },
  {
   "cell_type": "code",
   "execution_count": 41,
   "metadata": {},
   "outputs": [
    {
     "data": {
      "text/plain": [
       "(Array(787.7877, dtype=float32),\n",
       " Array([  3.8151379,  37.379005 ,  51.93557  ,  35.262177 ,  19.190506 ,\n",
       "         -3.603035 , -26.832207 , -58.843174 , -52.68307  ,  -5.6216764],      dtype=float32))"
      ]
     },
     "execution_count": 41,
     "metadata": {},
     "output_type": "execute_result"
    }
   ],
   "source": [
    "value_and_grad(project_and_sum)(m1_coefs)"
   ]
  },
  {
   "cell_type": "code",
   "execution_count": 7,
   "metadata": {},
   "outputs": [
    {
     "data": {
      "text/plain": [
       "(Array(404.34778, dtype=float32),\n",
       " {'lamb': Array(12.80876, dtype=float32, weak_type=True),\n",
       "  'm1_coefs': Array([nan, nan, nan, nan, nan, nan, nan, nan, nan, nan], dtype=float32),\n",
       "  'q_coefs': Array([ 0.03343856,  0.11959388, -0.11112669, -0.12035364,  0.08948015],      dtype=float32),\n",
       "  'unscaled_rate': Array(-38.999996, dtype=float32, weak_type=True),\n",
       "  'z_coefs': Array([ 0.02790883, -1.9071934 , -7.766446  ,  7.8666506 ,  1.9173056 ],      dtype=float32)})"
      ]
     },
     "execution_count": 7,
     "metadata": {},
     "output_type": "execute_result"
    }
   ],
   "source": [
    "params = unconstrain_fn(\n",
    "    obj.bspline_model,\n",
    "    obj.bspline_model_args,\n",
    "    {'log_likelihood': False},\n",
    "    obj.bspline_test_params,\n",
    ")\n",
    "potential_fn = partial(\n",
    "    potential_energy,\n",
    "    obj.bspline_model,\n",
    "    obj.bspline_model_args,\n",
    "    {'log_likelihood': False},\n",
    ")\n",
    "pe, z_grad = value_and_grad(potential_fn)(params)\n",
    "z_grad_flat = ravel_pytree(z_grad)[0]\n",
    "pe, z_grad"
   ]
  },
  {
   "cell_type": "code",
   "execution_count": 4,
   "metadata": {},
   "outputs": [],
   "source": [
    "# @partial(jax.custom_vjp, nondiff_argnums=(1,))\n",
    "# def _logsumexp(a, axis=None):\n",
    "#   return _logsumexp_fwd(a, axis)[0]\n",
    "\n",
    "\n",
    "# def _logsumexp_fwd(a, axis):\n",
    "#   c = jnp.max(a, axis=axis, keepdims=True)\n",
    "#   safe = jnp.isfinite(c)\n",
    "#   c = jnp.where(safe, c, 0)\n",
    "#   e = jnp.exp(a - c)\n",
    "#   z = jnp.sum(e, axis=axis, keepdims=True)\n",
    "#   r = jnp.squeeze(c, axis=axis) + jnp.log(jnp.squeeze(z, axis=axis))\n",
    "#   return r, (e, z)\n",
    "\n",
    "\n",
    "# def _logsumexp_bwd(axis, res, g):\n",
    "#   e, z = res\n",
    "#   safe = z != 0\n",
    "#   z = jnp.where(safe, z, 1)\n",
    "#   if axis is not None:\n",
    "#     g = jnp.expand_dims(g, axis=axis)\n",
    "#   return (g / z * e,)\n",
    "\n",
    "\n",
    "# _logsumexp.defvjp(_logsumexp_fwd, _logsumexp_bwd)"
   ]
  },
  {
   "cell_type": "code",
   "execution_count": 10,
   "metadata": {},
   "outputs": [
    {
     "data": {
      "text/plain": [
       "(Array(-541.76337, dtype=float32),\n",
       " (Array(nan, dtype=float32, weak_type=True),\n",
       "  Array(nan, dtype=float32, weak_type=True),\n",
       "  Array(-14.3321495, dtype=float32, weak_type=True)))"
      ]
     },
     "execution_count": 10,
     "metadata": {},
     "output_type": "execute_result"
    }
   ],
   "source": [
    "from gwinferno.pipeline.analysis import per_event_log_bayes_factors, detection_efficiency\n",
    "from gwinferno.models.gwpopulation.gwpopulation import powerlaw_pdf, powerlaw_primary_ratio_falloff_pdf\n",
    "\n",
    "from jax.scipy.special import logsumexp\n",
    "\n",
    "mmin = 5.0\n",
    "mmax = 85.0\n",
    "\n",
    "def test_fn(alpha, beta, lamb):\n",
    "    def get_weights(m1, q, z, prior):\n",
    "        p_m1q = powerlaw_primary_ratio_falloff_pdf(m1, q, alpha, beta, mmin, mmax)\n",
    "        p_z = obj.z_model(z, lamb)\n",
    "        wts = p_m1q * p_z / prior\n",
    "        return jnp.where(jnp.isnan(wts) | jnp.isinf(wts), 0., wts)\n",
    "\n",
    "    peweights = get_weights(obj.pedict[\"mass_1\"], obj.pedict[\"mass_ratio\"], obj.pedict[\"redshift\"], obj.pedict[\"prior\"])\n",
    "    log_peweights = jnp.log(peweights)[0]\n",
    "    logBFs, logn_effs = per_event_log_bayes_factors(jnp.log(peweights), log=True)\n",
    "    sumlogBFs = jnp.sum(logBFs)\n",
    "\n",
    "    injweights = get_weights(obj.injdict[\"mass_1\"], obj.injdict[\"mass_ratio\"], obj.injdict[\"redshift\"], obj.injdict[\"prior\"])\n",
    "    log_det_eff, logn_eff_inj = detection_efficiency(jnp.log(injweights), obj.total_inj, log=True)\n",
    "    sel = jnp.where(jnp.isinf(log_det_eff), jnp.nan_to_num(-jnp.inf), -obj.Nobs * log_det_eff)\n",
    "    return sel + sumlogBFs\n",
    "\n",
    "jax.value_and_grad(test_fn, argnums=[0, 1, 2])(params['alpha'], params['beta'], params['lamb'])"
   ]
  },
  {
   "cell_type": "code",
   "execution_count": 167,
   "metadata": {},
   "outputs": [
    {
     "data": {
      "text/plain": [
       "(Array([91.0051  ,  4.309117, 49.56017 , 26.805372, 40.136925, 21.145994,\n",
       "        11.44223 , 46.348957, 30.659395, 50.110634, 87.85397 ],      dtype=float32),\n",
       " Array([0.65772885, 0.85667926, 0.9848587 , 0.7555144 , 0.49639475,\n",
       "        0.91812885, 0.8649236 , 0.8474389 , 0.73924553, 0.7543511 ,\n",
       "        0.8091375 ], dtype=float32),\n",
       " Array([0.7805434 , 0.04101673, 0.7135863 , 0.3317348 , 0.37443125,\n",
       "        0.22276735, 0.07419356, 0.7007235 , 0.8185534 , 1.0220479 ,\n",
       "        0.35932612], dtype=float32),\n",
       " Array([2.4909657e-06, 1.3025932e-04, 4.3637242e-06, 3.8360307e-04,\n",
       "        4.4110577e-05, 1.0485483e-03, 8.4313680e-05, 3.3047843e-05,\n",
       "        1.3868562e-04, 1.9312771e-05, 1.3889327e-06], dtype=float32))"
      ]
     },
     "execution_count": 167,
     "metadata": {},
     "output_type": "execute_result"
    }
   ],
   "source": [
    "obj.injdict[\"mass_1\"][0:11], obj.injdict[\"mass_ratio\"][0:11], obj.injdict[\"redshift\"][0:11], obj.injdict[\"prior\"][0:11]"
   ]
  },
  {
   "cell_type": "code",
   "execution_count": 146,
   "metadata": {},
   "outputs": [
    {
     "data": {
      "text/plain": [
       "Array([0., 1.], dtype=float32)"
      ]
     },
     "execution_count": 146,
     "metadata": {},
     "output_type": "execute_result"
    }
   ],
   "source": [
    "jax.grad(logsumexp)(jnp.array([-jnp.inf, 1]))"
   ]
  },
  {
   "cell_type": "code",
   "execution_count": 88,
   "metadata": {},
   "outputs": [
    {
     "data": {
      "text/plain": [
       "Array([[37.222042, 38.794537, 38.521076, ..., 37.83196 , 35.23149 ,\n",
       "        36.681793],\n",
       "       [35.238552, 20.145653, 21.61572 , ..., 21.657352, 22.23512 ,\n",
       "        31.336054],\n",
       "       [13.838468, 14.472335, 17.46093 , ..., 18.523546, 11.818629,\n",
       "        14.029146],\n",
       "       ...,\n",
       "       [32.52336 , 33.113285, 39.28318 , ..., 36.120083, 43.093212,\n",
       "        39.960262],\n",
       "       [36.327663, 38.29848 , 31.168419, ..., 30.075806, 32.73317 ,\n",
       "        41.595516],\n",
       "       [10.173606, 10.632874, 10.648209, ..., 11.229955, 23.964489,\n",
       "        14.49608 ]], dtype=float32)"
      ]
     },
     "execution_count": 88,
     "metadata": {},
     "output_type": "execute_result"
    }
   ],
   "source": [
    "obj.pedict[\"mass_1\"]"
   ]
  },
  {
   "cell_type": "code",
   "execution_count": 97,
   "metadata": {},
   "outputs": [
    {
     "data": {
      "text/plain": [
       "(Array(-10.689595, dtype=float32),\n",
       " Array(-1.1805606, dtype=float32, weak_type=True))"
      ]
     },
     "execution_count": 97,
     "metadata": {},
     "output_type": "execute_result"
    }
   ],
   "source": [
    "m1 = jnp.array([37.222042, 38.222042])\n",
    "q = jnp.array([0.7, 0.8])\n",
    "def test_fn(alpha, beta):\n",
    "    p = powerlaw_pdf(m1, alpha, mmin, mmax)\n",
    "    p *= powerlaw_pdf(q, beta, mmin / m1, 1.)\n",
    "    logp = jnp.log(p)\n",
    "    return jnp.sum(logp)\n",
    "\n",
    "jax.value_and_grad(test_fn)(params['alpha'], params['beta'])"
   ]
  },
  {
   "cell_type": "code",
   "execution_count": 66,
   "metadata": {},
   "outputs": [
    {
     "data": {
      "text/plain": [
       "Array(3.5, dtype=float32, weak_type=True)"
      ]
     },
     "execution_count": 66,
     "metadata": {},
     "output_type": "execute_result"
    }
   ],
   "source": [
    "params['alpha']"
   ]
  },
  {
   "cell_type": "code",
   "execution_count": 69,
   "metadata": {},
   "outputs": [
    {
     "name": "stdout",
     "output_type": "stream",
     "text": [
      "False\n"
     ]
    },
    {
     "data": {
      "text/plain": [
       "(Array(-0.7106924, dtype=float32),\n",
       " (Array(nan, dtype=float32, weak_type=True),\n",
       "  Array(nan, dtype=float32, weak_type=True),\n",
       "  Array(nan, dtype=float32, weak_type=True)))"
      ]
     },
     "execution_count": 69,
     "metadata": {},
     "output_type": "execute_result"
    }
   ],
   "source": [
    "jax.value_and_grad(test_fn, argnums=[0, 1, 2])(3.4, params['beta'], params['lamb'])"
   ]
  },
  {
   "cell_type": "code",
   "execution_count": 13,
   "metadata": {},
   "outputs": [
    {
     "data": {
      "text/plain": [
       "Array([-0.8651271 ,  0.8001795 ,  3.6299875 , -0.6079154 ,  4.65168   ,\n",
       "       -3.6485028 , -1.1619616 , -0.29104185, -1.3003788 , -2.1649199 ,\n",
       "        0.1868391 , -1.2089202 , -2.1521144 , -3.8736534 , -2.7231946 ,\n",
       "       -2.3872986 ,  0.5409837 , -1.7329087 , -1.9217658 , -4.9069266 ,\n",
       "       -7.5029864 , -2.1691542 , -2.1653085 , -5.0664654 , -4.1885533 ,\n",
       "       -1.1731505 , -3.6546698 , -5.474626  ,  4.1554804 ,  2.0325143 ,\n",
       "       -2.3829193 ,  3.60317   ,  4.1989326 , -2.5409803 ,  3.8498368 ,\n",
       "       -2.9009933 , -2.4228444 , -4.134282  , -1.2612314 ,  0.24930048,\n",
       "       -2.4362426 , -1.2568278 ,  5.913206  ,  1.1792684 , -5.4201097 ,\n",
       "        3.9392762 ,  3.9270186 ,  4.283895  , -4.15062   , -3.6209235 ,\n",
       "        4.599425  ,  4.0763083 , -0.09750271,  4.2619743 , -3.1207128 ,\n",
       "       -3.9913783 , -1.3506789 , -2.9977183 , -1.0704803 ,  5.035596  ,\n",
       "       -2.1173368 , -2.2194986 , -4.0495105 , -2.4544926 , -2.1044888 ,\n",
       "        1.4634228 , -1.8623061 , -1.1537662 ,  3.4087162 ], dtype=float32)"
      ]
     },
     "execution_count": 13,
     "metadata": {},
     "output_type": "execute_result"
    }
   ],
   "source": [
    "alpha = params['alpha']\n",
    "beta = params['beta']\n",
    "lamb = params['lamb']\n",
    "\n",
    "def get_weights(m1, q, z, prior):\n",
    "    p_m1q = powerlaw_primary_ratio_pdf(m1, q, alpha=alpha, beta=beta, mmin=mmin, mmax=mmax)\n",
    "    p_z = obj.z_model(z, lamb)\n",
    "    wts = p_m1q #* p_z / prior\n",
    "    return jnp.where(jnp.isnan(wts) | jnp.isinf(wts), 0, wts)\n",
    "\n",
    "peweights = get_weights(obj.pedict[\"mass_1\"], obj.pedict[\"mass_ratio\"], obj.pedict[\"redshift\"], obj.pedict[\"prior\"])\n",
    "log_peweights = jnp.log(peweights)\n",
    "logsumexp(log_peweights, axis=1)"
   ]
  },
  {
   "cell_type": "code",
   "execution_count": 17,
   "metadata": {},
   "outputs": [
    {
     "data": {
      "text/plain": [
       "Array(2.9788102e-05, dtype=float32, weak_type=True)"
      ]
     },
     "execution_count": 17,
     "metadata": {},
     "output_type": "execute_result"
    }
   ],
   "source": [
    "m1 = 50.\n",
    "q = .9\n",
    "alpha = -2.\n",
    "beta = -2.\n",
    "mmin = 5.0\n",
    "mmax = 85.0\n",
    "\n",
    "grad_pdf = jax.grad(powerlaw_primary_ratio_pdf)\n",
    "grad_pdf(m1, q, alpha, beta, mmin, mmax)"
   ]
  },
  {
   "cell_type": "code",
   "execution_count": 4,
   "metadata": {},
   "outputs": [],
   "source": [
    "import numpyro\n",
    "numpyro.enable_validation()"
   ]
  },
  {
   "cell_type": "code",
   "execution_count": 5,
   "metadata": {},
   "outputs": [
    {
     "ename": "RuntimeError",
     "evalue": "Cannot find valid initial parameters. Please check your model again.",
     "output_type": "error",
     "traceback": [
      "\u001b[0;31m---------------------------------------------------------------------------\u001b[0m",
      "\u001b[0;31mRuntimeError\u001b[0m                              Traceback (most recent call last)",
      "Cell \u001b[0;32mIn[5], line 1\u001b[0m\n\u001b[0;32m----> 1\u001b[0m \u001b[43mobj\u001b[49m\u001b[38;5;241;43m.\u001b[39;49m\u001b[43mtest_truncated_posterior_sample_in_log\u001b[49m\u001b[43m(\u001b[49m\u001b[43m)\u001b[49m\n",
      "Cell \u001b[0;32mIn[2], line 216\u001b[0m, in \u001b[0;36mTestTruncatedModelInference.test_truncated_posterior_sample_in_log\u001b[0;34m(self)\u001b[0m\n\u001b[1;32m    214\u001b[0m kernel \u001b[38;5;241m=\u001b[39m NUTS(\u001b[38;5;28mself\u001b[39m\u001b[38;5;241m.\u001b[39mtruncated_numpyro_model, max_tree_depth\u001b[38;5;241m=\u001b[39m\u001b[38;5;241m2\u001b[39m, adapt_mass_matrix\u001b[38;5;241m=\u001b[39m\u001b[38;5;28;01mFalse\u001b[39;00m)\n\u001b[1;32m    215\u001b[0m mcmc \u001b[38;5;241m=\u001b[39m MCMC(kernel, num_warmup\u001b[38;5;241m=\u001b[39m\u001b[38;5;241m5\u001b[39m, num_samples\u001b[38;5;241m=\u001b[39m\u001b[38;5;241m5\u001b[39m)\n\u001b[0;32m--> 216\u001b[0m \u001b[43mmcmc\u001b[49m\u001b[38;5;241;43m.\u001b[39;49m\u001b[43mrun\u001b[49m\u001b[43m(\u001b[49m\u001b[43mRNG\u001b[49m\u001b[43m,\u001b[49m\u001b[43m \u001b[49m\u001b[38;5;28;43mself\u001b[39;49m\u001b[38;5;241;43m.\u001b[39;49m\u001b[43mpedict\u001b[49m\u001b[43m,\u001b[49m\u001b[43m \u001b[49m\u001b[38;5;28;43mself\u001b[39;49m\u001b[38;5;241;43m.\u001b[39;49m\u001b[43minjdict\u001b[49m\u001b[43m,\u001b[49m\u001b[43m \u001b[49m\u001b[38;5;28;43mself\u001b[39;49m\u001b[38;5;241;43m.\u001b[39;49m\u001b[43mz_model\u001b[49m\u001b[43m,\u001b[49m\u001b[43m \u001b[49m\u001b[38;5;28;43mself\u001b[39;49m\u001b[38;5;241;43m.\u001b[39;49m\u001b[43mNobs\u001b[49m\u001b[43m,\u001b[49m\u001b[43m \u001b[49m\u001b[38;5;28;43mself\u001b[39;49m\u001b[38;5;241;43m.\u001b[39;49m\u001b[43mtotal_inj\u001b[49m\u001b[43m,\u001b[49m\u001b[43m \u001b[49m\u001b[38;5;28;43mself\u001b[39;49m\u001b[38;5;241;43m.\u001b[39;49m\u001b[43mobs_time\u001b[49m\u001b[43m,\u001b[49m\u001b[43m \u001b[49m\u001b[43msample_prior\u001b[49m\u001b[38;5;241;43m=\u001b[39;49m\u001b[38;5;28;43;01mFalse\u001b[39;49;00m\u001b[43m,\u001b[49m\u001b[43m \u001b[49m\u001b[43mlog_likelihood\u001b[49m\u001b[38;5;241;43m=\u001b[39;49m\u001b[38;5;28;43;01mTrue\u001b[39;49;00m\u001b[43m)\u001b[49m\n\u001b[1;32m    217\u001b[0m samples \u001b[38;5;241m=\u001b[39m mcmc\u001b[38;5;241m.\u001b[39mget_samples()\n\u001b[1;32m    218\u001b[0m \u001b[38;5;28mself\u001b[39m\u001b[38;5;241m.\u001b[39massertEqual(samples[\u001b[38;5;124m\"\u001b[39m\u001b[38;5;124malpha\u001b[39m\u001b[38;5;124m\"\u001b[39m]\u001b[38;5;241m.\u001b[39mshape, (\u001b[38;5;241m5\u001b[39m,))\n",
      "File \u001b[0;32m~/miniconda3/envs/gwinferno-dev/lib/python3.11/site-packages/numpyro/infer/mcmc.py:666\u001b[0m, in \u001b[0;36mMCMC.run\u001b[0;34m(self, rng_key, extra_fields, init_params, *args, **kwargs)\u001b[0m\n\u001b[1;32m    664\u001b[0m map_args \u001b[38;5;241m=\u001b[39m (rng_key, init_state, init_params)\n\u001b[1;32m    665\u001b[0m \u001b[38;5;28;01mif\u001b[39;00m \u001b[38;5;28mself\u001b[39m\u001b[38;5;241m.\u001b[39mnum_chains \u001b[38;5;241m==\u001b[39m \u001b[38;5;241m1\u001b[39m:\n\u001b[0;32m--> 666\u001b[0m     states_flat, last_state \u001b[38;5;241m=\u001b[39m \u001b[43mpartial_map_fn\u001b[49m\u001b[43m(\u001b[49m\u001b[43mmap_args\u001b[49m\u001b[43m)\u001b[49m\n\u001b[1;32m    667\u001b[0m     states \u001b[38;5;241m=\u001b[39m tree_map(\u001b[38;5;28;01mlambda\u001b[39;00m x: x[jnp\u001b[38;5;241m.\u001b[39mnewaxis, \u001b[38;5;241m.\u001b[39m\u001b[38;5;241m.\u001b[39m\u001b[38;5;241m.\u001b[39m], states_flat)\n\u001b[1;32m    668\u001b[0m \u001b[38;5;28;01melse\u001b[39;00m:\n",
      "File \u001b[0;32m~/miniconda3/envs/gwinferno-dev/lib/python3.11/site-packages/numpyro/infer/mcmc.py:438\u001b[0m, in \u001b[0;36mMCMC._single_chain_mcmc\u001b[0;34m(self, init, args, kwargs, collect_fields, remove_sites)\u001b[0m\n\u001b[1;32m    436\u001b[0m \u001b[38;5;66;03m# Check if _sample_fn is None, then we need to initialize the sampler.\u001b[39;00m\n\u001b[1;32m    437\u001b[0m \u001b[38;5;28;01mif\u001b[39;00m init_state \u001b[38;5;129;01mis\u001b[39;00m \u001b[38;5;28;01mNone\u001b[39;00m \u001b[38;5;129;01mor\u001b[39;00m (\u001b[38;5;28mgetattr\u001b[39m(\u001b[38;5;28mself\u001b[39m\u001b[38;5;241m.\u001b[39msampler, \u001b[38;5;124m\"\u001b[39m\u001b[38;5;124m_sample_fn\u001b[39m\u001b[38;5;124m\"\u001b[39m, \u001b[38;5;28;01mNone\u001b[39;00m) \u001b[38;5;129;01mis\u001b[39;00m \u001b[38;5;28;01mNone\u001b[39;00m):\n\u001b[0;32m--> 438\u001b[0m     new_init_state \u001b[38;5;241m=\u001b[39m \u001b[38;5;28;43mself\u001b[39;49m\u001b[38;5;241;43m.\u001b[39;49m\u001b[43msampler\u001b[49m\u001b[38;5;241;43m.\u001b[39;49m\u001b[43minit\u001b[49m\u001b[43m(\u001b[49m\n\u001b[1;32m    439\u001b[0m \u001b[43m        \u001b[49m\u001b[43mrng_key\u001b[49m\u001b[43m,\u001b[49m\n\u001b[1;32m    440\u001b[0m \u001b[43m        \u001b[49m\u001b[38;5;28;43mself\u001b[39;49m\u001b[38;5;241;43m.\u001b[39;49m\u001b[43mnum_warmup\u001b[49m\u001b[43m,\u001b[49m\n\u001b[1;32m    441\u001b[0m \u001b[43m        \u001b[49m\u001b[43minit_params\u001b[49m\u001b[43m,\u001b[49m\n\u001b[1;32m    442\u001b[0m \u001b[43m        \u001b[49m\u001b[43mmodel_args\u001b[49m\u001b[38;5;241;43m=\u001b[39;49m\u001b[43margs\u001b[49m\u001b[43m,\u001b[49m\n\u001b[1;32m    443\u001b[0m \u001b[43m        \u001b[49m\u001b[43mmodel_kwargs\u001b[49m\u001b[38;5;241;43m=\u001b[39;49m\u001b[43mkwargs\u001b[49m\u001b[43m,\u001b[49m\n\u001b[1;32m    444\u001b[0m \u001b[43m    \u001b[49m\u001b[43m)\u001b[49m\n\u001b[1;32m    445\u001b[0m     init_state \u001b[38;5;241m=\u001b[39m new_init_state \u001b[38;5;28;01mif\u001b[39;00m init_state \u001b[38;5;129;01mis\u001b[39;00m \u001b[38;5;28;01mNone\u001b[39;00m \u001b[38;5;28;01melse\u001b[39;00m init_state\n\u001b[1;32m    446\u001b[0m sample_fn, postprocess_fn \u001b[38;5;241m=\u001b[39m \u001b[38;5;28mself\u001b[39m\u001b[38;5;241m.\u001b[39m_get_cached_fns()\n",
      "File \u001b[0;32m~/miniconda3/envs/gwinferno-dev/lib/python3.11/site-packages/numpyro/infer/hmc.py:749\u001b[0m, in \u001b[0;36mHMC.init\u001b[0;34m(self, rng_key, num_warmup, init_params, model_args, model_kwargs)\u001b[0m\n\u001b[1;32m    744\u001b[0m \u001b[38;5;66;03m# vectorized\u001b[39;00m\n\u001b[1;32m    745\u001b[0m \u001b[38;5;28;01melse\u001b[39;00m:\n\u001b[1;32m    746\u001b[0m     rng_key, rng_key_init_model \u001b[38;5;241m=\u001b[39m jnp\u001b[38;5;241m.\u001b[39mswapaxes(\n\u001b[1;32m    747\u001b[0m         vmap(random\u001b[38;5;241m.\u001b[39msplit)(rng_key), \u001b[38;5;241m0\u001b[39m, \u001b[38;5;241m1\u001b[39m\n\u001b[1;32m    748\u001b[0m     )\n\u001b[0;32m--> 749\u001b[0m init_params \u001b[38;5;241m=\u001b[39m \u001b[38;5;28;43mself\u001b[39;49m\u001b[38;5;241;43m.\u001b[39;49m\u001b[43m_init_state\u001b[49m\u001b[43m(\u001b[49m\n\u001b[1;32m    750\u001b[0m \u001b[43m    \u001b[49m\u001b[43mrng_key_init_model\u001b[49m\u001b[43m,\u001b[49m\u001b[43m \u001b[49m\u001b[43mmodel_args\u001b[49m\u001b[43m,\u001b[49m\u001b[43m \u001b[49m\u001b[43mmodel_kwargs\u001b[49m\u001b[43m,\u001b[49m\u001b[43m \u001b[49m\u001b[43minit_params\u001b[49m\n\u001b[1;32m    751\u001b[0m \u001b[43m\u001b[49m\u001b[43m)\u001b[49m\n\u001b[1;32m    752\u001b[0m \u001b[38;5;28;01mif\u001b[39;00m \u001b[38;5;28mself\u001b[39m\u001b[38;5;241m.\u001b[39m_potential_fn \u001b[38;5;129;01mand\u001b[39;00m init_params \u001b[38;5;129;01mis\u001b[39;00m \u001b[38;5;28;01mNone\u001b[39;00m:\n\u001b[1;32m    753\u001b[0m     \u001b[38;5;28;01mraise\u001b[39;00m \u001b[38;5;167;01mValueError\u001b[39;00m(\n\u001b[1;32m    754\u001b[0m         \u001b[38;5;124m\"\u001b[39m\u001b[38;5;124mValid value of `init_params` must be provided with\u001b[39m\u001b[38;5;124m\"\u001b[39m \u001b[38;5;124m\"\u001b[39m\u001b[38;5;124m `potential_fn`.\u001b[39m\u001b[38;5;124m\"\u001b[39m\n\u001b[1;32m    755\u001b[0m     )\n",
      "File \u001b[0;32m~/miniconda3/envs/gwinferno-dev/lib/python3.11/site-packages/numpyro/infer/hmc.py:693\u001b[0m, in \u001b[0;36mHMC._init_state\u001b[0;34m(self, rng_key, model_args, model_kwargs, init_params)\u001b[0m\n\u001b[1;32m    686\u001b[0m \u001b[38;5;28;01mdef\u001b[39;00m \u001b[38;5;21m_init_state\u001b[39m(\u001b[38;5;28mself\u001b[39m, rng_key, model_args, model_kwargs, init_params):\n\u001b[1;32m    687\u001b[0m     \u001b[38;5;28;01mif\u001b[39;00m \u001b[38;5;28mself\u001b[39m\u001b[38;5;241m.\u001b[39m_model \u001b[38;5;129;01mis\u001b[39;00m \u001b[38;5;129;01mnot\u001b[39;00m \u001b[38;5;28;01mNone\u001b[39;00m:\n\u001b[1;32m    688\u001b[0m         (\n\u001b[1;32m    689\u001b[0m             new_init_params,\n\u001b[1;32m    690\u001b[0m             potential_fn,\n\u001b[1;32m    691\u001b[0m             postprocess_fn,\n\u001b[1;32m    692\u001b[0m             model_trace,\n\u001b[0;32m--> 693\u001b[0m         ) \u001b[38;5;241m=\u001b[39m \u001b[43minitialize_model\u001b[49m\u001b[43m(\u001b[49m\n\u001b[1;32m    694\u001b[0m \u001b[43m            \u001b[49m\u001b[43mrng_key\u001b[49m\u001b[43m,\u001b[49m\n\u001b[1;32m    695\u001b[0m \u001b[43m            \u001b[49m\u001b[38;5;28;43mself\u001b[39;49m\u001b[38;5;241;43m.\u001b[39;49m\u001b[43m_model\u001b[49m\u001b[43m,\u001b[49m\n\u001b[1;32m    696\u001b[0m \u001b[43m            \u001b[49m\u001b[43mdynamic_args\u001b[49m\u001b[38;5;241;43m=\u001b[39;49m\u001b[38;5;28;43;01mTrue\u001b[39;49;00m\u001b[43m,\u001b[49m\n\u001b[1;32m    697\u001b[0m \u001b[43m            \u001b[49m\u001b[43minit_strategy\u001b[49m\u001b[38;5;241;43m=\u001b[39;49m\u001b[38;5;28;43mself\u001b[39;49m\u001b[38;5;241;43m.\u001b[39;49m\u001b[43m_init_strategy\u001b[49m\u001b[43m,\u001b[49m\n\u001b[1;32m    698\u001b[0m \u001b[43m            \u001b[49m\u001b[43mmodel_args\u001b[49m\u001b[38;5;241;43m=\u001b[39;49m\u001b[43mmodel_args\u001b[49m\u001b[43m,\u001b[49m\n\u001b[1;32m    699\u001b[0m \u001b[43m            \u001b[49m\u001b[43mmodel_kwargs\u001b[49m\u001b[38;5;241;43m=\u001b[39;49m\u001b[43mmodel_kwargs\u001b[49m\u001b[43m,\u001b[49m\n\u001b[1;32m    700\u001b[0m \u001b[43m            \u001b[49m\u001b[43mforward_mode_differentiation\u001b[49m\u001b[38;5;241;43m=\u001b[39;49m\u001b[38;5;28;43mself\u001b[39;49m\u001b[38;5;241;43m.\u001b[39;49m\u001b[43m_forward_mode_differentiation\u001b[49m\u001b[43m,\u001b[49m\n\u001b[1;32m    701\u001b[0m \u001b[43m        \u001b[49m\u001b[43m)\u001b[49m\n\u001b[1;32m    702\u001b[0m         \u001b[38;5;28;01mif\u001b[39;00m init_params \u001b[38;5;129;01mis\u001b[39;00m \u001b[38;5;28;01mNone\u001b[39;00m:\n\u001b[1;32m    703\u001b[0m             init_params \u001b[38;5;241m=\u001b[39m new_init_params\n",
      "File \u001b[0;32m~/miniconda3/envs/gwinferno-dev/lib/python3.11/site-packages/numpyro/infer/util.py:748\u001b[0m, in \u001b[0;36minitialize_model\u001b[0;34m(rng_key, model, init_strategy, dynamic_args, model_args, model_kwargs, forward_mode_differentiation, validate_grad)\u001b[0m\n\u001b[1;32m    735\u001b[0m                             w\u001b[38;5;241m.\u001b[39mmessage\u001b[38;5;241m.\u001b[39margs \u001b[38;5;241m=\u001b[39m (\n\u001b[1;32m    736\u001b[0m                                 \u001b[38;5;124m\"\u001b[39m\u001b[38;5;124mSite \u001b[39m\u001b[38;5;132;01m{}\u001b[39;00m\u001b[38;5;124m: \u001b[39m\u001b[38;5;132;01m{}\u001b[39;00m\u001b[38;5;124m\"\u001b[39m\u001b[38;5;241m.\u001b[39mformat(\n\u001b[1;32m    737\u001b[0m                                     site[\u001b[38;5;124m\"\u001b[39m\u001b[38;5;124mname\u001b[39m\u001b[38;5;124m\"\u001b[39m], w\u001b[38;5;241m.\u001b[39mmessage\u001b[38;5;241m.\u001b[39margs[\u001b[38;5;241m0\u001b[39m]\n\u001b[1;32m    738\u001b[0m                                 ),\n\u001b[1;32m    739\u001b[0m                             ) \u001b[38;5;241m+\u001b[39m w\u001b[38;5;241m.\u001b[39mmessage\u001b[38;5;241m.\u001b[39margs[\u001b[38;5;241m1\u001b[39m:]\n\u001b[1;32m    740\u001b[0m                             warnings\u001b[38;5;241m.\u001b[39mshowwarning(\n\u001b[1;32m    741\u001b[0m                                 w\u001b[38;5;241m.\u001b[39mmessage,\n\u001b[1;32m    742\u001b[0m                                 w\u001b[38;5;241m.\u001b[39mcategory,\n\u001b[0;32m   (...)\u001b[0m\n\u001b[1;32m    746\u001b[0m                                 line\u001b[38;5;241m=\u001b[39mw\u001b[38;5;241m.\u001b[39mline,\n\u001b[1;32m    747\u001b[0m                             )\n\u001b[0;32m--> 748\u001b[0m         \u001b[38;5;28;01mraise\u001b[39;00m \u001b[38;5;167;01mRuntimeError\u001b[39;00m(\n\u001b[1;32m    749\u001b[0m             \u001b[38;5;124m\"\u001b[39m\u001b[38;5;124mCannot find valid initial parameters. Please check your model again.\u001b[39m\u001b[38;5;124m\"\u001b[39m\n\u001b[1;32m    750\u001b[0m         )\n\u001b[1;32m    751\u001b[0m \u001b[38;5;28;01mreturn\u001b[39;00m ModelInfo(\n\u001b[1;32m    752\u001b[0m     ParamInfo(init_params, pe, grad), potential_fn, postprocess_fn, model_trace\n\u001b[1;32m    753\u001b[0m )\n",
      "\u001b[0;31mRuntimeError\u001b[0m: Cannot find valid initial parameters. Please check your model again."
     ]
    }
   ],
   "source": [
    "obj.test_truncated_posterior_sample_in_log()"
   ]
  },
  {
   "cell_type": "code",
   "execution_count": 5,
   "metadata": {},
   "outputs": [],
   "source": [
    "import jax.numpy as jnp\n",
    "import jax.random as jr\n",
    "import jax.scipy as jsp"
   ]
  },
  {
   "cell_type": "code",
   "execution_count": 6,
   "metadata": {},
   "outputs": [],
   "source": [
    "Nobs = 100\n",
    "ndim = 7\n",
    "Nsamples = 10000\n",
    "\n",
    "cdfs = jr.uniform(jr.PRNGKey(0), (Nobs, Nsamples, ))\n",
    "\n",
    "pe_weights = jsp.stats.norm.ppf(cdfs)\n",
    "log_pe_weights = jnp.log(pe_weights)"
   ]
  },
  {
   "cell_type": "code",
   "execution_count": 7,
   "metadata": {},
   "outputs": [],
   "source": [
    "Nfound = 1000000\n",
    "Ninj = 1e8\n",
    "\n",
    "cdfs = jr.uniform(jr.PRNGKey(0), (Nfound,))\n",
    "\n",
    "inj_weights = jsp.stats.norm.ppf(cdfs)\n",
    "log_inj_weights = jnp.log(inj_weights)"
   ]
  },
  {
   "cell_type": "code",
   "execution_count": 4,
   "metadata": {},
   "outputs": [
    {
     "name": "stderr",
     "output_type": "stream",
     "text": [
      "/Users/bfarr/miniconda3/envs/gwinferno-dev/lib/python3.11/site-packages/tqdm/auto.py:21: TqdmWarning: IProgress not found. Please update jupyter and ipywidgets. See https://ipywidgets.readthedocs.io/en/stable/user_install.html\n",
      "  from .autonotebook import tqdm as notebook_tqdm\n"
     ]
    }
   ],
   "source": [
    "from gwinferno.pipeline.analysis import per_event_log_bayes_factors\n",
    "from gwinferno.pipeline.analysis import detection_efficiency"
   ]
  },
  {
   "cell_type": "code",
   "execution_count": 5,
   "metadata": {},
   "outputs": [
    {
     "data": {
      "text/plain": [
       "(Array([       nan, -6.28279  ,        nan, -5.4024377,        nan,\n",
       "        -4.6986156, -4.899934 ,        nan,        nan, -3.7848063,\n",
       "        -3.8085396, -5.0981064,        nan,        nan, -5.612026 ,\n",
       "               nan, -4.9878507,        nan, -4.642298 , -5.3807797,\n",
       "               nan,        nan,        nan,        nan, -4.2844276,\n",
       "               nan, -4.0309176,        nan, -5.3119984,        nan,\n",
       "        -6.2375903,        nan, -6.5961385,        nan, -6.9297085,\n",
       "        -4.2152176,        nan, -6.1705165, -3.8763113,        nan,\n",
       "        -4.013441 ,        nan,        nan,        nan,        nan,\n",
       "               nan,        nan, -4.6851406,        nan, -4.865668 ,\n",
       "               nan,        nan, -4.1963224, -8.891895 , -8.230718 ,\n",
       "        -6.123764 ,        nan,        nan, -5.561819 ,        nan,\n",
       "               nan,        nan,        nan,        nan,        nan,\n",
       "        -4.3325586, -4.035114 , -4.12204  ,        nan, -4.727278 ,\n",
       "        -6.9177628, -4.6817   , -4.6184473, -5.449932 , -6.409523 ,\n",
       "        -6.6469088, -5.539691 , -5.218288 ,        nan,        nan,\n",
       "        -4.1841984,        nan,        nan,        nan, -4.3338156,\n",
       "               nan,        nan, -7.1478286, -3.8066287,        nan,\n",
       "        -4.1624823, -4.872058 ,        nan, -4.4803953,        nan,\n",
       "               nan,        nan, -5.132066 ,        nan,        nan],      dtype=float32),\n",
       " Array([-1.3734756e+00, -3.3776491e+00, -4.2959533e+00, -1.5678729e+00,\n",
       "        -6.4226890e-01, -2.0353730e-01, -5.6461543e-01, -4.4425175e-01,\n",
       "        -1.3172815e+00,  1.6368892e+00,  1.5885526e+00, -9.8778069e-01,\n",
       "        -8.6951911e-01,  1.3177214e+00, -2.0117462e+00, -1.9829839e+00,\n",
       "        -7.7011687e-01, -9.9417806e-01, -7.6865666e-02, -1.5568463e+00,\n",
       "         8.9165092e-01, -6.9476433e+00, -2.7237992e+00, -4.1731176e+00,\n",
       "         6.6097248e-01,  2.5533491e-01,  1.1425915e+00, -3.5076723e-01,\n",
       "        -1.4263338e+00,  9.7056520e-01, -3.2759354e+00,  9.4240725e-01,\n",
       "        -3.9792817e+00, -7.3951977e-01, -4.6514387e+00,  7.8245676e-01,\n",
       "         1.7432323e-01, -3.1371567e+00,  1.4496288e+00, -7.8010931e+00,\n",
       "         1.1699567e+00, -5.1178271e-01, -7.8101200e-01, -1.7003366e+00,\n",
       "        -4.4363132e+00, -1.5484080e-01,  2.2030273e-02, -1.6377385e-01,\n",
       "        -2.4354811e+00, -5.0732529e-01,  3.4556609e-01, -1.3678015e+00,\n",
       "         8.4693944e-01, -8.5735435e+00, -7.2294326e+00, -3.0638885e+00,\n",
       "        -9.5974464e+00, -1.4904273e-02, -1.9318184e+00, -2.3733873e+00,\n",
       "        -8.1608844e-01,  6.2954062e-01, -2.2257133e+00, -4.6955749e-01,\n",
       "         9.3610650e-03,  5.4772067e-01,  1.1416867e+00,  9.7447836e-01,\n",
       "        -2.0731049e+00, -2.3665552e-01, -4.6343389e+00, -1.7134351e-01,\n",
       "        -9.5922584e-03, -1.6903300e+00, -3.6131020e+00, -4.0885987e+00,\n",
       "        -1.8726717e+00, -1.2206045e+00,  1.0899498e+00, -1.2057924e+00,\n",
       "         8.2460427e-01, -1.8362532e+00, -4.9786347e-01, -4.2302709e+00,\n",
       "         5.5188441e-01, -6.8571615e-01,  8.0256647e-01, -5.0751085e+00,\n",
       "         1.5993713e+00, -2.0210705e+00,  8.6754382e-01, -5.2950656e-01,\n",
       "         9.2849386e-01,  2.7111614e-01, -3.8913152e+00, -1.1050524e+00,\n",
       "        -1.8030145e+00, -1.0389374e+00, -2.4668029e-02,  9.9732375e-01],      dtype=float32))"
      ]
     },
     "execution_count": 5,
     "metadata": {},
     "output_type": "execute_result"
    }
   ],
   "source": [
    "per_event_log_bayes_factors(pe_weights, log=False)"
   ]
  },
  {
   "cell_type": "code",
   "execution_count": 9,
   "metadata": {},
   "outputs": [
    {
     "name": "stdout",
     "output_type": "stream",
     "text": [
      "1.18 ms ± 33.7 μs per loop (mean ± std. dev. of 7 runs, 1,000 loops each)\n"
     ]
    }
   ],
   "source": [
    "%timeit per_event_log_bayes_factor_log_neffs(pe_weights)"
   ]
  },
  {
   "cell_type": "code",
   "execution_count": 7,
   "metadata": {},
   "outputs": [
    {
     "name": "stdout",
     "output_type": "stream",
     "text": [
      "8.56 ms ± 11.9 μs per loop (mean ± std. dev. of 7 runs, 100 loops each)\n"
     ]
    }
   ],
   "source": [
    "%timeit per_event_log_bayes_factor_log_neffs_log(jnp.log(pe_weights))"
   ]
  },
  {
   "cell_type": "code",
   "execution_count": 10,
   "metadata": {},
   "outputs": [
    {
     "name": "stdout",
     "output_type": "stream",
     "text": [
      "395 μs ± 3.12 μs per loop (mean ± std. dev. of 7 runs, 1,000 loops each)\n"
     ]
    }
   ],
   "source": [
    "%timeit mu_neff_injections(weights, Nfound)"
   ]
  },
  {
   "cell_type": "code",
   "execution_count": 14,
   "metadata": {},
   "outputs": [
    {
     "name": "stdout",
     "output_type": "stream",
     "text": [
      "4.11 ms ± 61.1 μs per loop (mean ± std. dev. of 7 runs, 100 loops each)\n"
     ]
    }
   ],
   "source": [
    "%timeit logmu_logneff_injections_log(log_weights, Nfound)"
   ]
  },
  {
   "cell_type": "code",
   "execution_count": 1,
   "metadata": {},
   "outputs": [
    {
     "name": "stderr",
     "output_type": "stream",
     "text": [
      "/Users/bfarr/miniconda3/envs/gwinferno-dev/lib/python3.11/site-packages/tqdm/auto.py:21: TqdmWarning: IProgress not found. Please update jupyter and ipywidgets. See https://ipywidgets.readthedocs.io/en/stable/user_install.html\n",
      "  from .autonotebook import tqdm as notebook_tqdm\n"
     ]
    }
   ],
   "source": [
    "# %load tests/models/bsplines/separable_test.py\n",
    "import os\n",
    "import unittest\n",
    "\n",
    "import jax.numpy as jnp\n",
    "import xarray as xr\n",
    "\n",
    "from gwinferno.models.bsplines.separable import BSplineEffectiveSpinDims\n",
    "from gwinferno.models.bsplines.separable import BSplineIIDComponentMasses\n",
    "from gwinferno.models.bsplines.separable import BSplineIIDSpinMagnitudes\n",
    "from gwinferno.models.bsplines.separable import BSplineIIDSpinTilts\n",
    "from gwinferno.models.bsplines.separable import BSplineIndependentComponentMasses\n",
    "from gwinferno.models.bsplines.separable import BSplineIndependentSpinMagnitudes\n",
    "from gwinferno.models.bsplines.separable import BSplineIndependentSpinTilts\n",
    "from gwinferno.models.bsplines.separable import BSplinePrimaryBSplineRatio\n",
    "from gwinferno.models.bsplines.separable import BSplinePrimaryPowerlawRatio\n",
    "from gwinferno.models.bsplines.separable import PLPeakPrimaryBSplineRatio\n",
    "from gwinferno.preprocess.data_collection import load_injections\n",
    "\n",
    "\n",
    "class TestBase1DBSplineModel(unittest.TestCase):\n",
    "    def setUp(self) -> None:\n",
    "        if os.path.exists(\"~/unit_tests/data\"):\n",
    "            pref = \"~/unit_tests/data\"\n",
    "        else:\n",
    "            pref = \"tests/data\"\n",
    "            self.data_dir = pref\n",
    "        self.inj_file = f\"{pref}/injections.h5\"\n",
    "        self.pedict = self.load_data()\n",
    "        self.injdict = self.load_injections(through_o4a=False, through_o3=True)\n",
    "        self.nsplines = 10\n",
    "        self.coefs = jnp.ones((self.nsplines,))\n",
    "        self.mmin = 5.0\n",
    "        self.mmax = 100.0\n",
    "\n",
    "    def tearDown(self) -> None:\n",
    "        del self.data_dir\n",
    "        del self.inj_file\n",
    "        del self.pedict\n",
    "        del self.injdict\n",
    "        del self.nsplines\n",
    "        del self.mmin\n",
    "        del self.mmax\n",
    "\n",
    "    def load_injections(self, **kwargs):\n",
    "        p_names = [\"mass_1\", \"mass_ratio\", \"redshift\", \"a_1\", \"a_2\", \"cos_tilt_1\", \"cos_tilt_2\"]\n",
    "        injections = load_injections(self.inj_file, p_names, through_o3=kwargs[\"through_o3\"], through_o4a=kwargs[\"through_o4a\"])\n",
    "        injdata = jnp.asarray(injections.data)\n",
    "        injdict = {k: injdata[i] for i, k in enumerate(injections.param.values)}\n",
    "        return injdict\n",
    "\n",
    "    def load_data(self):\n",
    "        loaded_dataset = xr.load_dataset(f\"{self.data_dir}/xarray_GWTC3_BBH_69evs_downsampled_1000samps_nospin.h5\")\n",
    "        dataarray = loaded_dataset.to_array()\n",
    "        pedata = jnp.asarray(dataarray.data)\n",
    "        pedict = {k: pedata[:, i, :] for i, k in enumerate(dataarray.param.values)}\n",
    "        return pedict\n",
    "\n",
    "    def spin_spline_shape(self, model, pe_x, inj_x, IID=True):\n",
    "\n",
    "        if IID:\n",
    "            bspline = model(self.nsplines, pe_x, pe_x, inj_x, inj_x)\n",
    "            pe_pdf = bspline(self.coefs, pe_samples=True)\n",
    "            inj_pdf = bspline(self.coefs, pe_samples=False)\n",
    "        else:\n",
    "            bspline = model(self.nsplines, self.nsplines, pe_x, pe_x, inj_x, inj_x)\n",
    "            pe_pdf = bspline(self.coefs, self.coefs, pe_samples=True)\n",
    "            inj_pdf = bspline(self.coefs, self.coefs, pe_samples=False)\n",
    "\n",
    "        self.assertEqual(pe_x.shape, pe_pdf.shape, msg=\"PE sample shape different than PE PDF shape\")\n",
    "        self.assertEqual(inj_x.shape, inj_pdf.shape, msg=\"Inj sample shape different than Inj PDF shape\")\n",
    "\n",
    "    def test_spin_functions(self):\n",
    "        self.spin_spline_shape(BSplineIIDSpinMagnitudes, self.pedict[\"a_1\"], self.injdict[\"a_1\"])\n",
    "        self.spin_spline_shape(BSplineIIDSpinTilts, self.pedict[\"cos_tilt_1\"], self.injdict[\"cos_tilt_1\"])\n",
    "        self.spin_spline_shape(BSplineIndependentSpinMagnitudes, self.pedict[\"a_1\"], self.injdict[\"a_1\"], IID=False)\n",
    "        self.spin_spline_shape(BSplineIndependentSpinTilts, self.pedict[\"cos_tilt_1\"], self.injdict[\"cos_tilt_1\"], IID=False)\n",
    "\n",
    "    def test_BSplinePrimaryPowerlawRatio(self):\n",
    "        beta = 3.0\n",
    "\n",
    "        pe_m1 = self.pedict[\"mass_1\"]\n",
    "        inj_m1 = self.injdict[\"mass_1\"]\n",
    "        pe_q = self.pedict[\"mass_ratio\"]\n",
    "        inj_q = self.injdict[\"mass_ratio\"]\n",
    "        bspline_pl = BSplinePrimaryPowerlawRatio(self.nsplines, pe_m1, inj_m1, mmin=self.mmin, mmax=self.mmax)\n",
    "\n",
    "        pe_pdf = bspline_pl(pe_m1, pe_q, beta, self.mmin, self.coefs, pe_samples=True)\n",
    "        inj_pdf = bspline_pl(inj_m1, inj_q, beta, self.mmin, self.coefs, pe_samples=False)\n",
    "\n",
    "        self.assertEqual(pe_m1.shape, pe_pdf.shape, msg=\"PE sample shape different than PE PDF shape\")\n",
    "        self.assertEqual(inj_m1.shape, inj_pdf.shape, msg=\"Inj sample shape different than Inj PDF shape\")\n",
    "\n",
    "        pe_nonzero_outside = jnp.sum(jnp.where(jnp.less(pe_m1, self.mmin) | jnp.greater(pe_m1, self.mmax), pe_pdf, 0))\n",
    "        inj_nonzero_outside = jnp.sum(jnp.where(jnp.less(inj_m1, self.mmin) | jnp.greater(inj_m1, self.mmax), inj_pdf, 0))\n",
    "\n",
    "        self.assertEqual(pe_nonzero_outside, 0, msg=\"PE PDF not properly truncated\")\n",
    "        self.assertEqual(inj_nonzero_outside, 0, msg=\"Inj PDF not properly truncated\")\n",
    "\n",
    "    def test_PLPeakPrimaryBSplineRatio(self):\n",
    "\n",
    "        pe_m1 = self.pedict[\"mass_1\"]\n",
    "        inj_m1 = self.injdict[\"mass_1\"]\n",
    "        pe_q = self.pedict[\"mass_ratio\"]\n",
    "        inj_q = self.injdict[\"mass_ratio\"]\n",
    "\n",
    "        plpeak_spline = PLPeakPrimaryBSplineRatio(self.nsplines, pe_q, inj_q)\n",
    "\n",
    "        pe_pdf = plpeak_spline(pe_m1, self.coefs, pe_samples=True, alpha=-3, mmin=self.mmin, mmax=self.mmax, mpp=10.0, sigpp=3.0, lam=0.8)\n",
    "        inj_pdf = plpeak_spline(inj_m1, self.coefs, pe_samples=False, alpha=-3, mmin=self.mmin, mmax=self.mmax, mpp=10.0, sigpp=3.0, lam=0.8)\n",
    "\n",
    "        self.assertEqual(pe_m1.shape, pe_pdf.shape, msg=\"PE sample shape different than PE PDF shape\")\n",
    "        self.assertEqual(inj_m1.shape, inj_pdf.shape, msg=\"Inj sample shape different than Inj PDF shape\")\n",
    "\n",
    "        pe_nonzero_outside = jnp.sum(jnp.where(jnp.less(pe_m1, self.mmin) | jnp.greater(pe_m1, self.mmax), pe_pdf, 0))\n",
    "        inj_nonzero_outside = jnp.sum(jnp.where(jnp.less(inj_m1, self.mmin) | jnp.greater(inj_m1, self.mmax), inj_pdf, 0))\n",
    "\n",
    "        self.assertEqual(pe_nonzero_outside, 0, msg=\"PE PDF not properly truncated\")\n",
    "        self.assertEqual(inj_nonzero_outside, 0, msg=\"Inj PDF not properly truncated\")\n",
    "\n",
    "    def test_BSplinePrimaryBSplineRatio(self):\n",
    "\n",
    "        pe_m1 = self.pedict[\"mass_1\"]\n",
    "        inj_m1 = self.injdict[\"mass_1\"]\n",
    "        pe_q = self.pedict[\"mass_ratio\"]\n",
    "        inj_q = self.injdict[\"mass_ratio\"]\n",
    "\n",
    "        spline = BSplinePrimaryBSplineRatio(\n",
    "            self.nsplines, self.nsplines, pe_m1, inj_m1, pe_q, inj_q, m1min=self.mmin, m2min=self.mmin, mmax=self.mmax\n",
    "        )\n",
    "\n",
    "        pe_pdf = spline(self.coefs, self.coefs, pe_samples=True)\n",
    "        inj_pdf = spline(self.coefs, self.coefs, pe_samples=False)\n",
    "\n",
    "        self.assertEqual(pe_m1.shape, pe_pdf.shape, msg=\"PE sample shape different than PE PDF shape\")\n",
    "        self.assertEqual(inj_m1.shape, inj_pdf.shape, msg=\"Inj sample shape different than Inj PDF shape\")\n",
    "\n",
    "        pe_nonzero_outside = jnp.sum(jnp.where(jnp.less(pe_m1, self.mmin) | jnp.greater(pe_m1, self.mmax), pe_pdf, 0))\n",
    "        inj_nonzero_outside = jnp.sum(jnp.where(jnp.less(inj_m1, self.mmin) | jnp.greater(inj_m1, self.mmax), inj_pdf, 0))\n",
    "\n",
    "        self.assertEqual(pe_nonzero_outside, 0, msg=\"PE PDF not properly truncated\")\n",
    "        self.assertEqual(inj_nonzero_outside, 0, msg=\"Inj PDF not properly truncated\")\n",
    "\n",
    "    def component_mass(self, model, IID=True, **kwargs):\n",
    "\n",
    "        pe_m1 = self.pedict[\"mass_1\"]\n",
    "        inj_m1 = self.injdict[\"mass_1\"]\n",
    "        pe_m2 = self.pedict[\"mass_ratio\"] * self.pedict[\"mass_1\"]\n",
    "        inj_m2 = self.injdict[\"mass_ratio\"] * self.injdict[\"mass_1\"]\n",
    "\n",
    "        if IID:\n",
    "            spline = model(self.nsplines, pe_m1, pe_m2, inj_m1, inj_m2, **kwargs)\n",
    "            pe_pdf = spline(self.coefs, beta=3.0, pe_samples=True)\n",
    "            inj_pdf = spline(self.coefs, beta=3.0, pe_samples=False)\n",
    "        else:\n",
    "            spline = model(self.nsplines, self.nsplines, pe_m1, pe_m2, inj_m1, inj_m2, **kwargs)\n",
    "            pe_pdf = spline(self.coefs, self.coefs, beta=3.0, pe_samples=True)\n",
    "            inj_pdf = spline(self.coefs, self.coefs, beta=3.0, pe_samples=False)\n",
    "\n",
    "        self.assertEqual(pe_m1.shape, pe_pdf.shape, msg=\"PE sample shape different than PE PDF shape\")\n",
    "        self.assertEqual(inj_m1.shape, inj_pdf.shape, msg=\"Inj sample shape different than Inj PDF shape\")\n",
    "\n",
    "    def test_BSplineComponentMass(self):\n",
    "\n",
    "        self.component_mass(BSplineIIDComponentMasses, IID=True, mmin=self.mmin, mmax=self.mmax)\n",
    "        self.component_mass(BSplineIndependentComponentMasses, IID=False, mmin1=self.mmin, mmax1=self.mmax, mmin2=self.mmin, mmax2=self.mmax)\n",
    "\n",
    "    def test_BSplineEffectiveSpinDims(self):\n",
    "\n",
    "        spline = BSplineEffectiveSpinDims(\n",
    "            self.nsplines, self.nsplines, self.pedict[\"cos_tilt_1\"], self.pedict[\"a_1\"], self.injdict[\"cos_tilt_1\"], self.injdict[\"a_1\"]\n",
    "        )\n",
    "\n",
    "        pe_pdf = spline(self.coefs, self.coefs, pe_samples=True)\n",
    "        inj_pdf = spline(self.coefs, self.coefs, pe_samples=False)\n",
    "\n",
    "        self.assertEqual(self.pedict[\"a_1\"].shape, pe_pdf.shape, msg=\"PE sample shape different than PE PDF shape\")\n",
    "        self.assertEqual(self.injdict[\"cos_tilt_1\"].shape, inj_pdf.shape, msg=\"Inj sample shape different than Inj PDF shape\")\n"
   ]
  },
  {
   "cell_type": "code",
   "execution_count": 2,
   "metadata": {},
   "outputs": [],
   "source": [
    "test_obj = TestBase1DBSplineModel()\n",
    "test_obj.setUp()"
   ]
  },
  {
   "cell_type": "code",
   "execution_count": 3,
   "metadata": {},
   "outputs": [],
   "source": [
    "test_obj.test_BSplinePrimaryBSplineRatio()"
   ]
  },
  {
   "cell_type": "code",
   "execution_count": 4,
   "metadata": {},
   "outputs": [],
   "source": [
    "pe_m1 = test_obj.pedict[\"mass_1\"]\n",
    "inj_m1 = test_obj.injdict[\"mass_1\"]\n",
    "pe_q = test_obj.pedict[\"mass_ratio\"]\n",
    "inj_q = test_obj.injdict[\"mass_ratio\"]\n",
    "spline = BSplinePrimaryBSplineRatio(\n",
    "    test_obj.nsplines, test_obj.nsplines, pe_m1, inj_m1, pe_q, inj_q, m1min=test_obj.mmin, m2min=test_obj.mmin, mmax=test_obj.mmax\n",
    ")"
   ]
  },
  {
   "cell_type": "code",
   "execution_count": 15,
   "metadata": {},
   "outputs": [
    {
     "data": {
      "text/plain": [
       "(Array([[0.01108033, 0.01108033, 0.01108033, ..., 0.01108033, 0.01108033,\n",
       "         0.01108033],\n",
       "        [0.01108033, 0.01108033, 0.01108033, ..., 0.01108033, 0.01108033,\n",
       "         0.01108033],\n",
       "        [0.01108033, 0.01108033, 0.01108033, ..., 0.01108033, 0.01108033,\n",
       "         0.01108033],\n",
       "        ...,\n",
       "        [0.01108033, 0.01108033, 0.01108033, ..., 0.01108033, 0.01108033,\n",
       "         0.01108033],\n",
       "        [0.01108033, 0.01108033, 0.01108033, ..., 0.01108033, 0.01108033,\n",
       "         0.01108033],\n",
       "        [0.01108033, 0.01108033, 0.01108033, ..., 0.01108033, 0.01108033,\n",
       "         0.01108033]], dtype=float32),\n",
       " Array([0.01108033, 0.00407623, 0.01108033, ..., 0.01108033, 0.01108033,\n",
       "        0.01108033], dtype=float32))"
      ]
     },
     "execution_count": 15,
     "metadata": {},
     "output_type": "execute_result"
    }
   ],
   "source": [
    "pe_pdf = spline(test_obj.coefs, test_obj.coefs, pe_samples=True)\n",
    "inj_pdf = spline(test_obj.coefs, test_obj.coefs, pe_samples=False)\n",
    "pe_pdf, inj_pdf"
   ]
  },
  {
   "cell_type": "code",
   "execution_count": 16,
   "metadata": {},
   "outputs": [],
   "source": [
    "import matplotlib.pyplot as plt"
   ]
  },
  {
   "cell_type": "code",
   "execution_count": 21,
   "metadata": {},
   "outputs": [],
   "source": [
    "inj_m1_pdf = spline.primary_model(test_obj.coefs, pe_samples=False)"
   ]
  },
  {
   "cell_type": "code",
   "execution_count": 24,
   "metadata": {},
   "outputs": [
    {
     "data": {
      "text/plain": [
       "<matplotlib.lines.Line2D at 0x3194b4ed0>"
      ]
     },
     "execution_count": 24,
     "metadata": {},
     "output_type": "execute_result"
    },
    {
     "data": {
      "image/png": "[encoded data removed]",
      "text/plain": [
       "<Figure size 640x480 with 1 Axes>"
      ]
     },
     "metadata": {},
     "output_type": "display_data"
    }
   ],
   "source": [
    "plt.scatter(inj_m1, inj_m1_pdf)\n",
    "plt.axvline(test_obj.mmin, color=\"r\")"
   ]
  },
  {
   "cell_type": "code",
   "execution_count": 28,
   "metadata": {},
   "outputs": [
    {
     "data": {
      "text/plain": [
       "Array([[0.],\n",
       "       [0.],\n",
       "       [0.],\n",
       "       [0.],\n",
       "       [0.],\n",
       "       [0.],\n",
       "       [0.],\n",
       "       [0.],\n",
       "       [0.],\n",
       "       [0.]], dtype=float32)"
      ]
     },
     "execution_count": 28,
     "metadata": {},
     "output_type": "execute_result"
    }
   ],
   "source": [
    "test_x = 4.9\n",
    "spline.primary_model.truncate_dmat(jnp.array([test_x,]),spline.primary_model.interpolator.bases(jnp.array([test_x,])) )"
   ]
  },
  {
   "cell_type": "code",
   "execution_count": 31,
   "metadata": {},
   "outputs": [],
   "source": [
    "out_of_bounds_inj = inj_m1 < test_obj.mmin"
   ]
  },
  {
   "cell_type": "code",
   "execution_count": 36,
   "metadata": {},
   "outputs": [
    {
     "data": {
      "text/plain": [
       "Array(0., dtype=float32)"
      ]
     },
     "execution_count": 36,
     "metadata": {},
     "output_type": "execute_result"
    }
   ],
   "source": [
    "spline.primary_model.inj_design_matrix[:, out_of_bounds_inj].sum()"
   ]
  },
  {
   "cell_type": "code",
   "execution_count": 39,
   "metadata": {},
   "outputs": [
    {
     "data": {
      "text/plain": [
       "Array([0.00387242, 0.00387242, 0.00387242, ..., 0.00387242, 0.00387242,\n",
       "       0.00387242], dtype=float32)"
      ]
     },
     "execution_count": 39,
     "metadata": {},
     "output_type": "execute_result"
    }
   ],
   "source": [
    "spline.primary_model.interpolator.project(spline.primary_model.inj_design_matrix, test_obj.coefs)[out_of_bounds_inj]"
   ]
  },
  {
   "cell_type": "code",
   "execution_count": 43,
   "metadata": {},
   "outputs": [
    {
     "data": {
      "text/plain": [
       "Array([1., 1., 1., ..., 1., 1., 1.], dtype=float32)"
      ]
     },
     "execution_count": 43,
     "metadata": {},
     "output_type": "execute_result"
    }
   ],
   "source": [
    "jnp.exp(jnp.einsum(\"i...,i->...\", spline.primary_model.inj_design_matrix, test_obj.coefs)[out_of_bounds_inj])"
   ]
  },
  {
   "cell_type": "code",
   "execution_count": 1,
   "metadata": {},
   "outputs": [
    {
     "name": "stderr",
     "output_type": "stream",
     "text": [
      "/Users/bfarr/miniconda3/envs/gwinferno-dev/lib/python3.11/site-packages/tqdm/auto.py:21: TqdmWarning: IProgress not found. Please update jupyter and ipywidgets. See https://ipywidgets.readthedocs.io/en/stable/user_install.html\n",
      "  from .autonotebook import tqdm as notebook_tqdm\n"
     ]
    }
   ],
   "source": [
    "# %load tests/numpyro_distributions_test.py\n",
    "import unittest\n",
    "\n",
    "import jax.numpy as jnp\n",
    "import numpy as np\n",
    "from astropy.cosmology import Planck15\n",
    "from jax import random\n",
    "from jax.scipy.integrate import trapezoid\n",
    "from scipy.integrate import cumtrapz as scipy_cumtrapz\n",
    "from scipy.stats import truncnorm\n",
    "\n",
    "from gwinferno.interpolation import BSpline\n",
    "from gwinferno.interpolation import LogXBSpline\n",
    "from gwinferno.interpolation import LogXLogYBSpline\n",
    "from gwinferno.interpolation import LogYBSpline\n",
    "from gwinferno.numpyro_distributions import BSplineDistribution\n",
    "from gwinferno.numpyro_distributions import Cosine\n",
    "from gwinferno.numpyro_distributions import Powerlaw\n",
    "from gwinferno.numpyro_distributions import PowerlawRedshift\n",
    "from gwinferno.numpyro_distributions import PSplineCoeficientPrior\n",
    "from gwinferno.numpyro_distributions import Sine\n",
    "from gwinferno.numpyro_distributions import cumtrapz\n",
    "\n",
    "\n",
    "class TestJaxCumtrapz(unittest.TestCase):\n",
    "    def setUp(self) -> None:\n",
    "        self.gr = np.linspace(0, 1, 50)\n",
    "        self.tn = truncnorm(-1, 1, loc=0.5, scale=0.1)\n",
    "\n",
    "    def test_cumtrapz(self):\n",
    "        scipy_int = scipy_cumtrapz(np.exp(self.tn.logpdf(self.gr)), self.gr).tolist()\n",
    "        gwinf_int = cumtrapz(jnp.exp(self.tn.logpdf(self.gr)), self.gr).tolist()\n",
    "        for s, g in zip(scipy_int, gwinf_int):\n",
    "            self.assertAlmostEqual(s, g, places=4)\n",
    "\n",
    "    def tearDown(self) -> None:\n",
    "        del self.gr\n",
    "        del self.tn\n",
    "\n",
    "\n",
    "class TestNPDistributions(unittest.TestCase):\n",
    "    def setUp(self) -> None:\n",
    "        self.grid = jnp.linspace(0.001, 1, 1000)\n",
    "        self.x_interps = jnp.linspace(0.001, 1, 10)\n",
    "        self.y_interps = random.normal(random.PRNGKey(0), shape=(10,))\n",
    "        self.gr = jnp.linspace(0, 1, 1000)\n",
    "        self.cs_pn = random.normal(random.PRNGKey(1), shape=(20,))\n",
    "        self.cs = random.uniform(random.PRNGKey(2), shape=(20,))\n",
    "\n",
    "    def tearDown(self) -> None:\n",
    "        del self.grid\n",
    "        del self.x_interps\n",
    "        del self.y_interps\n",
    "        del self.gr\n",
    "        del self.cs\n",
    "\n",
    "    def test_cosine(self):\n",
    "        d = Cosine(minimum=-np.pi / 2.0, maximum=np.pi / 2.0)\n",
    "        grid = np.linspace(-np.pi / 2.0, np.pi / 2.0, 1000)\n",
    "        lpdfs = d.log_prob(grid)\n",
    "        self.assertAlmostEqual(trapezoid(jnp.exp(lpdfs), grid), 1.0, places=4)\n",
    "        samps = d.sample(random.PRNGKey(0), sample_shape=(100,))\n",
    "        self.assertTrue(jnp.all((samps >= -np.pi / 2.0) & (samps <= np.pi / 2.0)))\n",
    "\n",
    "    def test_sine(self):\n",
    "        d = Sine(minimum=0.0, maximum=np.pi)\n",
    "        grid = np.linspace(0, np.pi, 1000)\n",
    "        lpdfs = d.log_prob(grid)\n",
    "        self.assertAlmostEqual(trapezoid(jnp.exp(lpdfs), grid), 1.0, places=4)\n",
    "        samps = d.sample(random.PRNGKey(0), sample_shape=(100,))\n",
    "        self.assertTrue(jnp.all((samps >= 0.0) & (samps <= np.pi)))\n",
    "\n",
    "    def test_powerlaw(self):\n",
    "        d = Powerlaw(alpha=1.0, minimum=0.001, maximum=1.0)\n",
    "        lpdfs = d.log_prob(self.grid)\n",
    "        norm = trapezoid(jnp.exp(lpdfs), self.grid)\n",
    "        self.assertAlmostEqual(norm, 1.0, places=4)\n",
    "        samps = d.sample(random.PRNGKey(0), sample_shape=(100,))\n",
    "        self.assertTrue(jnp.all((samps >= 0.001) & (samps <= 1.0)))\n",
    "\n",
    "    def test_powerlaw_redshift(self):\n",
    "        z_grid = jnp.linspace(0.001, 1, 1000)\n",
    "        dVcdz_grid = Planck15.differential_comoving_volume(z_grid).value * 4.0 * jnp.pi\n",
    "        d = PowerlawRedshift(lamb=0.0, maximum=1.0, zgrid=z_grid, dVcdz=dVcdz_grid)\n",
    "        lpdfs = d.log_prob(self.grid)\n",
    "        norm = trapezoid(jnp.exp(lpdfs), self.grid)\n",
    "        self.assertAlmostEqual(norm, 1.0, places=4)\n",
    "        samps = d.sample(random.PRNGKey(0), sample_shape=(100,))\n",
    "        self.assertTrue(jnp.all((samps >= 0.001) & (samps <= 1.0)))\n",
    "\n",
    "    def test_bspline_distribution(self):\n",
    "        grid_dmat = BSpline(20, normalize=True).bases(self.gr)\n",
    "        d = BSplineDistribution(minimum=0.0, maximum=1.0, cs=self.cs, grid=self.gr, grid_dmat=grid_dmat)\n",
    "        lpdfs = d.log_prob(self.gr)\n",
    "        norm = trapezoid(jnp.exp(lpdfs), self.gr)\n",
    "        self.assertAlmostEqual(norm, 1.0, places=4)\n",
    "        samps = d.sample(random.PRNGKey(0), sample_shape=(100,))\n",
    "        self.assertTrue(jnp.all((samps >= 0.0) & (samps <= 1.0)))\n",
    "\n",
    "    def test_pspline_distribution(self):\n",
    "        cs = PSplineCoeficientPrior(20, 1.0).sample(random.PRNGKey(0), sample_shape=(1,))\n",
    "        grid_dmat = BSpline(20, normalize=True).bases(self.gr)\n",
    "        d = BSplineDistribution(minimum=0.0, maximum=1.0, cs=cs, grid=self.gr, grid_dmat=grid_dmat)\n",
    "        lpdfs = d.log_prob(self.gr)\n",
    "        norm = trapezoid(jnp.exp(lpdfs), self.gr)\n",
    "        self.assertAlmostEqual(norm, 1.0, places=4)\n",
    "        samps = d.sample(random.PRNGKey(0), sample_shape=(100,))\n",
    "        self.assertTrue(jnp.all((samps >= 0.0) & (samps <= 1.0)))\n",
    "\n",
    "    def test_logy_bspline_distribution(self):\n",
    "        grid_dmat = LogYBSpline(20, normalize=True).bases(self.gr)\n",
    "        d = BSplineDistribution(minimum=0.0, maximum=1.0, cs=self.cs_pn, grid=self.gr, grid_dmat=grid_dmat)\n",
    "        lpdfs = d.log_prob(self.gr)\n",
    "        norm = trapezoid(jnp.exp(lpdfs), self.gr)\n",
    "        self.assertAlmostEqual(norm, 1.0, places=4)\n",
    "        samps = d.sample(random.PRNGKey(0), sample_shape=(100,))\n",
    "        self.assertTrue(jnp.all((samps >= 0.0) & (samps <= 1.0)))\n",
    "\n",
    "    def test_logx_bspline_distribution(self):\n",
    "        grid_dmat = LogXBSpline(20, normalize=True).bases(self.grid)\n",
    "        d = BSplineDistribution(minimum=0.001, maximum=1.0, cs=self.cs, grid=self.grid, grid_dmat=grid_dmat)\n",
    "        lpdfs = d.log_prob(self.grid)\n",
    "        norm = trapezoid(jnp.exp(lpdfs), self.grid)\n",
    "        self.assertAlmostEqual(norm, 1.0, places=4)\n",
    "        samps = d.sample(random.PRNGKey(0), sample_shape=(100,))\n",
    "        self.assertTrue(jnp.all((samps >= 0.001) & (samps <= 1.0)))\n",
    "\n",
    "    def test_logxy_bspline_distribution(self):\n",
    "        grid_dmat = LogXLogYBSpline(20, normalize=True).bases(self.grid)\n",
    "        d = BSplineDistribution(minimum=0.001, maximum=1.0, cs=self.cs_pn, grid=self.grid, grid_dmat=grid_dmat)\n",
    "        lpdfs = d.log_prob(self.grid)\n",
    "        norm = trapezoid(jnp.exp(lpdfs), self.grid)\n",
    "        self.assertAlmostEqual(norm, 1.0, places=4)\n",
    "        samps = d.sample(random.PRNGKey(0), sample_shape=(100,))\n",
    "        self.assertTrue(jnp.all((samps >= 0.001) & (samps <= 1.0)))\n"
   ]
  },
  {
   "cell_type": "code",
   "execution_count": 2,
   "metadata": {},
   "outputs": [],
   "source": [
    "test_obj = TestNPDistributions()\n",
    "test_obj.setUp()"
   ]
  },
  {
   "cell_type": "code",
   "execution_count": 3,
   "metadata": {},
   "outputs": [],
   "source": [
    "test_obj.test_logxy_bspline_distribution()"
   ]
  },
  {
   "cell_type": "code",
   "execution_count": 10,
   "metadata": {},
   "outputs": [
    {
     "data": {
      "text/plain": [
       "Array([0.        , 0.        , 0.        , 0.        , 0.        ,\n",
       "       0.        , 0.        , 0.        , 0.        , 0.        ,\n",
       "       0.        , 0.        , 0.        , 0.        , 0.        ,\n",
       "       0.        , 0.        , 0.        , 0.        , 0.        ,\n",
       "       0.        , 0.        , 0.        , 0.        , 0.        ,\n",
       "       0.        , 0.        , 0.        , 0.        , 0.        ,\n",
       "       0.        , 0.        , 0.        , 0.        , 0.        ,\n",
       "       0.        , 0.        , 0.        , 0.        , 0.        ,\n",
       "       0.        , 0.        , 0.        , 0.        , 0.        ,\n",
       "       0.        , 0.        , 0.        , 0.        , 0.        ,\n",
       "       0.        , 0.        , 0.        , 0.        , 0.        ,\n",
       "       0.        , 0.        , 0.        , 0.        , 0.        ,\n",
       "       0.        , 0.        , 0.        , 0.        , 0.        ,\n",
       "       0.        , 0.        , 0.        , 0.        , 0.        ,\n",
       "       0.        , 0.        , 0.        , 0.        , 0.        ,\n",
       "       0.        , 0.        , 0.        , 0.        , 0.        ,\n",
       "       0.        , 0.        , 0.        , 0.        , 0.        ,\n",
       "       0.        , 0.        , 0.        , 0.        , 0.        ,\n",
       "       0.        , 0.        , 0.        , 0.        , 0.        ,\n",
       "       0.        , 0.        , 0.        , 0.        , 0.514322  ,\n",
       "       0.5300272 , 0.54781574, 0.56723005, 0.58777755, 0.60892427,\n",
       "       0.630089  , 0.65064335, 0.6699203 , 0.6872257 , 0.70185524,\n",
       "       0.7131202 , 0.72037244, 0.7230351 , 0.720633  , 0.71285087,\n",
       "       0.7002128 , 0.6839765 , 0.6653552 , 0.64544326, 0.6251968 ,\n",
       "       0.60543114, 0.5868284 , 0.56995404, 0.55527943, 0.54320586,\n",
       "       0.53409016, 0.52827275, 0.5261042 , 0.5279748 , 0.5343457 ,\n",
       "       0.54578656, 0.56286275, 0.58543485, 0.61314034, 0.6456311 ,\n",
       "       0.6825223 , 0.72335434, 0.7675461 , 0.81436867, 0.8629127 ,\n",
       "       0.9120789 , 0.96056986, 1.0069032 , 1.0494508 , 1.0864834 ,\n",
       "       1.1162479 , 1.1370585 , 1.1473979 , 1.1460282 , 1.1320959 ,\n",
       "       1.1054718 , 1.0679393 , 1.0219669 , 0.9699604 , 0.91414726,\n",
       "       0.85648584, 0.79863405, 0.74192274, 0.68738526, 0.6357717 ,\n",
       "       0.5875901 , 0.5431492 , 0.50259596, 0.46595398, 0.4331598 ,\n",
       "       0.40408954, 0.37858304, 0.35646507, 0.33756095, 0.32170764,\n",
       "       0.30876592, 0.29862714, 0.29114982, 0.286033  , 0.28300694,\n",
       "       0.28186154, 0.28243324, 0.28459457, 0.28824708, 0.2933141 ,\n",
       "       0.29973665, 0.30746818, 0.31647107, 0.32671356, 0.33816698,\n",
       "       0.35080197, 0.3645869 , 0.3794853 , 0.39545232, 0.41243386,\n",
       "       0.43036342, 0.44916114, 0.4687303 , 0.48895606, 0.50970566,\n",
       "       0.53082633, 0.552144  , 0.5735067 , 0.5948548 , 0.6161431 ,\n",
       "       0.6373277 , 0.6583628 , 0.67920595, 0.6998127 , 0.72014064,\n",
       "       0.74014825, 0.75979465, 0.77904123, 0.7978499 , 0.81618494,\n",
       "       0.83401054, 0.85129535, 0.86800766, 0.8841185 , 0.8996011 ,\n",
       "       0.9144302 , 0.9285833 , 0.9420402 , 0.9547818 , 0.966792  ,\n",
       "       0.9780566 , 0.9885639 , 0.9983038 , 1.0072689 , 1.0154537 ,\n",
       "       1.0228553 , 1.0294845 , 1.0353625 , 1.0405127 , 1.0449593 ,\n",
       "       1.0487286 , 1.0518472 , 1.0543432 , 1.056245  , 1.0575813 ,\n",
       "       1.0583819 , 1.0586761 , 1.0584936 , 1.0578641 , 1.0568168 ,\n",
       "       1.0553813 , 1.0535861 , 1.0514598 , 1.0490303 , 1.046325  ,\n",
       "       1.0433707 , 1.0401934 , 1.0368187 , 1.0332713 , 1.029575  ,\n",
       "       1.0257531 , 1.021828  , 1.0178217 , 1.0137547 , 1.0096476 ,\n",
       "       1.0055195 , 1.0013889 , 0.9972742 , 0.9931877 , 0.9891161 ,\n",
       "       0.9850386 , 0.9809355 , 0.9767877 , 0.97257686, 0.9682855 ,\n",
       "       0.9638967 , 0.9593949 , 0.9547645 , 0.949991  , 0.94506097,\n",
       "       0.93996114, 0.93468   , 0.92920566, 0.9235275 , 0.91763633,\n",
       "       0.9115228 , 0.90517914, 0.8985976 , 0.89177233, 0.8846973 ,\n",
       "       0.87736785, 0.86978066, 0.86193186, 0.85381985, 0.8454436 ,\n",
       "       0.8368023 , 0.82789636, 0.81872714, 0.8092972 , 0.799609  ,\n",
       "       0.78966624, 0.779474  , 0.7690374 , 0.75836235, 0.7474563 ,\n",
       "       0.736327  , 0.7249958 , 0.7134959 , 0.7018603 , 0.6901195 ,\n",
       "       0.6783027 , 0.66643864, 0.6545517 , 0.642668  , 0.6308093 ,\n",
       "       0.6189974 , 0.6072517 , 0.5955902 , 0.58403057, 0.5725874 ,\n",
       "       0.5612754 , 0.5501062 , 0.53909296, 0.52824545, 0.51757175,\n",
       "       0.5070816 , 0.49678156, 0.48667774, 0.47677606, 0.4670802 ,\n",
       "       0.4575943 , 0.44832194, 0.439265  , 0.43042526, 0.42180416,\n",
       "       0.41340238, 0.40521967, 0.39725646, 0.3895119 , 0.38198486,\n",
       "       0.37467474, 0.36757872, 0.36069605, 0.35402414, 0.34756124,\n",
       "       0.34130496, 0.33525223, 0.32940128, 0.3237489 , 0.3182967 ,\n",
       "       0.31304836, 0.30800697, 0.30317533, 0.2985555 , 0.29414946,\n",
       "       0.28995857, 0.2859843 , 0.282228  , 0.27869013, 0.27537185,\n",
       "       0.27227417, 0.26939774, 0.26674372, 0.26431283, 0.26210672,\n",
       "       0.2601265 , 0.258374  , 0.25685108, 0.25556007, 0.2545036 ,\n",
       "       0.2536847 , 0.25310713, 0.2527747 , 0.2526921 , 0.25286466,\n",
       "       0.25329825, 0.2539996 , 0.254976  , 0.2562359 , 0.2577885 ,\n",
       "       0.2596442 , 0.2618141 , 0.264311  , 0.26714864, 0.27034244,\n",
       "       0.273909  , 0.27786705, 0.28223696, 0.2870405 , 0.29230297,\n",
       "       0.2980505 , 0.30431288, 0.31112275, 0.31851497, 0.3265291 ,\n",
       "       0.33520693, 0.34459588, 0.3547464 , 0.3656981 , 0.37748018,\n",
       "       0.39012143, 0.4036547 , 0.41811314, 0.4335325 , 0.44995084,\n",
       "       0.46740526, 0.48593685, 0.50558543, 0.52639365, 0.5484055 ,\n",
       "       0.5716619 , 0.5962084 , 0.6220864 , 0.6493402 , 0.67801225,\n",
       "       0.7081427 , 0.7397715 , 0.77293664, 0.8076737 , 0.84401363,\n",
       "       0.88198453, 0.9216141 , 0.9629179 , 1.005915  , 1.050609  ,\n",
       "       1.0970044 , 1.145096  , 1.1948683 , 1.2462994 , 1.2993568 ,\n",
       "       1.3539985 , 1.410172  , 1.4678106 , 1.5268401 , 1.5871686 ,\n",
       "       1.6486955 , 1.711301  , 1.7748588 , 1.8392241 , 1.9042358 ,\n",
       "       1.9697245 , 2.0354998 , 2.101361  , 2.1670997 , 2.2324815 ,\n",
       "       2.297274  , 2.361223  , 2.424069  , 2.485545  , 2.5453718 ,\n",
       "       2.6032717 , 2.6589565 , 2.712143  , 2.7625391 , 2.80993   ,\n",
       "       2.854205  , 2.8952727 , 2.933062  , 2.9675124 , 2.998579  ,\n",
       "       3.0262315 , 3.0504518 , 3.0712376 , 3.0885978 , 3.1025538 ,\n",
       "       3.1131408 , 3.1204033 , 3.1243975 , 3.1251888 , 3.1228528 ,\n",
       "       3.117472  , 3.109139  , 3.0979493 , 3.084009  , 3.067425  ,\n",
       "       3.048314  , 3.0267928 , 3.0029795 , 2.9770002 , 2.9489768 ,\n",
       "       2.9190373 , 2.887308  , 2.853912  , 2.8189783 , 2.7826278 ,\n",
       "       2.744985  , 2.7061691 , 2.6662996 , 2.625491  , 2.583855  ,\n",
       "       2.5415008 , 2.4985325 , 2.4550545 , 2.4111614 , 2.3669465 ,\n",
       "       2.3225021 , 2.2779098 , 2.2332525 , 2.1886067 , 2.1440423 ,\n",
       "       2.0996304 , 2.0554323 , 2.0115087 , 1.9679133 , 1.9246986 ,\n",
       "       1.8819137 , 1.8395975 , 1.7977953 , 1.7565385 , 1.7158626 ,\n",
       "       1.6757964 , 1.6363677 , 1.5975952 , 1.5595049 , 1.5221117 ,\n",
       "       1.4854312 , 1.4494762 , 1.4142543 , 1.3797774 , 1.3460468 ,\n",
       "       1.3130649 , 1.2808324 , 1.2493443 , 1.2186033 , 1.1886038 ,\n",
       "       1.1593404 , 1.1308061 , 1.1029974 , 1.0759048 , 1.0495204 ,\n",
       "       1.0238357 , 0.998839  , 0.97452384, 0.9508776 , 0.9278906 ,\n",
       "       0.90555036, 0.8838445 , 0.86276376, 0.8422949 , 0.8224267 ,\n",
       "       0.8031455 , 0.7844389 , 0.76629585, 0.7487046 , 0.7316508 ,\n",
       "       0.7151238 , 0.69910914, 0.68359834, 0.6685764 , 0.65403324,\n",
       "       0.6399562 , 0.62633353, 0.6131552 , 0.6004092 , 0.5880851 ,\n",
       "       0.5761713 , 0.56465745, 0.55353445, 0.5427915 , 0.5324191 ,\n",
       "       0.52240664, 0.5127466 , 0.5034288 , 0.4944448 , 0.485786  ,\n",
       "       0.4774439 , 0.469411  , 0.46167952, 0.45424187, 0.4470906 ,\n",
       "       0.4402185 , 0.43361977, 0.4272874 , 0.4212152 , 0.41539717,\n",
       "       0.40982762, 0.40450147, 0.3994134 , 0.39455822, 0.38993132,\n",
       "       0.3855279 , 0.3813443 , 0.37737653, 0.37362042, 0.3700726 ,\n",
       "       0.36672977, 0.3635891 , 0.36064768, 0.35790297, 0.3553526 ,\n",
       "       0.35299438, 0.3508268 , 0.34884635, 0.34704792, 0.3454259 ,\n",
       "       0.34397545, 0.34269205, 0.34157103, 0.34060842, 0.33980057,\n",
       "       0.33914384, 0.338635  , 0.3382709 , 0.3380488 , 0.3379659 ,\n",
       "       0.33801988, 0.33820862, 0.3385298 , 0.3389817 , 0.3395625 ,\n",
       "       0.34027076, 0.34110478, 0.34206346, 0.3431455 , 0.3443501 ,\n",
       "       0.34567606, 0.3471227 , 0.34868938, 0.35037538, 0.35218048,\n",
       "       0.354104  , 0.35614574, 0.3583055 , 0.36058316, 0.362979  ,\n",
       "       0.36549237, 0.36812398, 0.37087375, 0.37374228, 0.3767293 ,\n",
       "       0.37983567, 0.38306162, 0.3864078 , 0.38987476, 0.393463  ,\n",
       "       0.39717317, 0.40100622, 0.4049627 , 0.4090438 , 0.4132497 ,\n",
       "       0.41758186, 0.4220409 , 0.42662802, 0.4313444 , 0.4361904 ,\n",
       "       0.44116777, 0.446277  , 0.45151964, 0.45689702, 0.4624098 ,\n",
       "       0.46805918, 0.4738468 , 0.4797735 , 0.485841  , 0.49204987,\n",
       "       0.49840164, 0.5048978 , 0.5115393 , 0.5183278 , 0.52526397,\n",
       "       0.5323495 , 0.5395854 , 0.54697365, 0.55451447, 0.5622096 ,\n",
       "       0.5700602 , 0.57806724, 0.5862325 , 0.59455633, 0.6030406 ,\n",
       "       0.6116857 , 0.6204932 , 0.62946457, 0.63859963, 0.6479    ,\n",
       "       0.6573664 , 0.66700023, 0.67680144, 0.68676984, 0.6969055 ,\n",
       "       0.7072086 , 0.71767914, 0.7283174 , 0.73912203, 0.75009286,\n",
       "       0.7612298 , 0.7725318 , 0.783999  , 0.795629  , 0.80742174,\n",
       "       0.81937563, 0.83148956, 0.8437627 , 0.85619235, 0.868777  ,\n",
       "       0.88151497, 0.8944049 , 0.9074431 , 0.9206276 , 0.93395644,\n",
       "       0.94742644, 0.9610355 , 0.974779  , 0.9886541 , 1.0026577 ,\n",
       "       1.0167859 , 1.0310359 , 1.0454013 , 1.0598794 , 1.0744652 ,\n",
       "       1.0891545 , 1.1039425 , 1.1188227 , 1.1337914 , 1.1488416 ,\n",
       "       1.1639688 , 1.1791676 , 1.1944296 , 1.2097491 , 1.2251207 ,\n",
       "       1.2405366 , 1.2559911 , 1.2714746 , 1.2869811 , 1.3025026 ,\n",
       "       1.3180318 , 1.3335613 , 1.3490806 , 1.3645825 , 1.3800584 ,\n",
       "       1.3955003 , 1.4108979 , 1.426242  , 1.4415241 , 1.4567342 ,\n",
       "       1.4718637 , 1.486901  , 1.5018371 , 1.516662  , 1.5313655 ,\n",
       "       1.5459381 , 1.5603673 , 1.5746446 , 1.5887581 , 1.602698  ,\n",
       "       1.6164538 , 1.6300135 , 1.6433674 , 1.6565034 , 1.6694121 ,\n",
       "       1.6820823 , 1.6945021 , 1.7066612 , 1.7185496 , 1.7301555 ,\n",
       "       1.741469  , 1.7524787 , 1.7631744 , 1.7735456 , 1.7835824 ,\n",
       "       1.7932743 , 1.8026109 , 1.8115828 , 1.8201804 , 1.8283943 ,\n",
       "       1.8362144 , 1.8436317 , 1.8506385 , 1.8572255 , 1.8633846 ,\n",
       "       1.8691074 , 1.8743861 , 1.8792137 , 1.8835877 , 1.8875134 ,\n",
       "       1.8909969 , 1.8940452 , 1.8966655 , 1.8988651 , 1.9006511 ,\n",
       "       1.9020318 , 1.9030153 , 1.9036095 , 1.9038234 , 1.9036651 ,\n",
       "       1.9031435 , 1.9022676 , 1.9010466 , 1.8994894 , 1.8976053 ,\n",
       "       1.8954039 , 1.892894  , 1.8900857 , 1.8869876 , 1.8836101 ,\n",
       "       1.8799624 , 1.8760538 , 1.8718942 , 1.8674923 , 1.8628585 ,\n",
       "       1.8580015 , 1.8529313 , 1.8476561 , 1.8421857 , 1.8365296 ,\n",
       "       1.8306967 , 1.8246955 , 1.8185351 , 1.812224  , 1.8057714 ,\n",
       "       1.7991858 , 1.7924752 , 1.7856476 , 1.7787116 , 1.7716755 ,\n",
       "       1.764547  , 1.7573335 , 1.750043  , 1.7426825 , 1.7352599 ,\n",
       "       1.727782  , 1.7202562 , 1.712689  , 1.7050868 , 1.6974573 ,\n",
       "       1.6898065 , 1.6821401 , 1.6744645 , 1.6667863 , 1.6591109 ,\n",
       "       1.6514444 , 1.6437918 , 1.6361583 , 1.6285503 , 1.6209726 ,\n",
       "       1.6134297 , 1.6059271 , 1.5984689 , 1.5910605 , 1.583706  ,\n",
       "       1.57641   , 1.5691767 , 1.5620097 , 1.554914  , 1.547893  ,\n",
       "       1.5409507 , 1.5340908 , 1.5273163 , 1.5206318 , 1.5140402 ,\n",
       "       1.507545  , 1.5011492 , 1.4948556 , 1.4886683 , 1.4825897 ,\n",
       "       1.4766228 , 1.4707705 , 1.465035  , 1.4594201 , 1.4539279 ,\n",
       "       1.448561  , 1.4433216 , 1.4382131 , 1.4332373 , 1.4283968 ,\n",
       "       1.423694  , 1.419131  , 1.4147105 , 1.4104348 , 1.4063056 ,\n",
       "       1.4023256 , 1.3984969 , 1.3948216 , 1.3913022 , 1.3879405 ,\n",
       "       1.384739  , 1.3816996 , 1.3788247 , 1.3761165 , 1.3735769 ,\n",
       "       1.3712085 , 1.3690132 , 1.3669937 , 1.3651514 , 1.363485  ,\n",
       "       1.3619901 , 1.3606628 , 1.359499  , 1.3584949 , 1.357647  ,\n",
       "       1.3569511 , 1.3564043 , 1.3560024 , 1.3557425 , 1.3556207 ,\n",
       "       1.3556342 , 1.3557794 , 1.3560534 , 1.3564527 , 1.3569745 ,\n",
       "       1.3576157 , 1.3583733 , 1.3592443 , 1.3602258 , 1.3613151 ,\n",
       "       1.3625093 , 1.3638054 , 1.365201  , 1.3666929 , 1.3682789 ,\n",
       "       1.3699559 , 1.3717216 , 1.3735731 , 1.3755077 , 1.3775232 ,\n",
       "       1.3796169 , 1.3817858 , 1.3840277 , 1.3863399 , 1.3887203 ,\n",
       "       1.391166  , 1.3936744 , 1.3962432 , 1.3988698 , 1.4015515 ,\n",
       "       1.4042863 , 1.4070712 , 1.4099041 , 1.4127822 , 1.4157034 ,\n",
       "       1.4186648 , 1.4216639 , 1.4246982 , 1.4277656 , 1.4308635 ,\n",
       "       1.4339892 , 1.4371397 , 1.4403135 , 1.4435073 , 1.4467192 ,\n",
       "       1.4499458 , 1.4531852 , 1.4564347 , 1.4596918 , 1.462954  ,\n",
       "       1.4662187 , 1.469483  , 1.4727446 , 1.4760008 , 1.4792494 ,\n",
       "       1.4824872 , 1.4857119 , 1.4889208 , 1.4921116 , 1.4952815 ,\n",
       "       1.4984276 , 1.5015473 , 1.5046384 , 1.507698  , 1.5107236 ,\n",
       "       1.5137122 , 1.5166614 , 1.5195686 , 1.5224314 , 1.5252467 ,\n",
       "       1.528012  , 1.5307246 , 1.5333822 , 1.5359821 , 1.5385214 ,\n",
       "       1.5409974 , 1.5434079 , 1.54575   , 1.5480217 , 1.5502197 ,\n",
       "       1.5523416 , 1.554385  , 1.5563473 , 1.5582262 , 1.5600189 ,\n",
       "       1.5617229 , 1.563336  , 1.5648555 , 1.5662793 , 1.5676044 ,\n",
       "       1.5688292 , 1.5699507 , 1.570967  , 1.5718757 , 1.5726743 ,\n",
       "       1.5733609 , 1.5739329 , 1.5743887 , 1.574726  , 1.5749421 ,\n",
       "       1.5750359 , 1.5750046 , 1.5748467 , 1.5745605 , 1.5741434 ,\n",
       "       1.5735942 , 1.5729108 , 1.5720915 , 1.5711348 , 1.5700389 ,\n",
       "       1.5688021 , 1.5674235 , 1.5659008 , 1.5642332 , 1.5624192 ],      dtype=float32)"
      ]
     },
     "execution_count": 10,
     "metadata": {},
     "output_type": "execute_result"
    }
   ],
   "source": [
    "spline = LogXLogYBSpline(20, normalize=True)\n",
    "grid_dmat = spline.bases(test_obj.grid)\n",
    "d = BSplineDistribution(minimum=0.001, maximum=1.0, cs=test_obj.cs_pn, grid=test_obj.grid, grid_dmat=grid_dmat)\n",
    "spline.project(grid_dmat, test_obj.cs_pn)"
   ]
  },
  {
   "cell_type": "code",
   "execution_count": null,
   "metadata": {},
   "outputs": [],
   "source": [
    "norm = trapezoid(jnp.exp(lpdfs), test_obj.grid)\n",
    "test_obj.assertAlmostEqual(norm, 1.0, places=4)\n",
    "samps = d.sample(random.PRNGKey(0), sample_shape=(100,))\n",
    "test_obj.assertTrue(jnp.all((samps >= 0.001) & (samps <= 1.0)))\n"
   ]
  }
 ],
 "metadata": {
  "kernelspec": {
   "display_name": "gwinferno-dev",
   "language": "python",
   "name": "python3"
  },
  "language_info": {
   "codemirror_mode": {
    "name": "ipython",
    "version": 3
   },
   "file_extension": ".py",
   "mimetype": "text/x-python",
   "name": "python",
   "nbconvert_exporter": "python",
   "pygments_lexer": "ipython3",
   "version": "3.11.9"
  }
 },
 "nbformat": 4,
 "nbformat_minor": 2
}
